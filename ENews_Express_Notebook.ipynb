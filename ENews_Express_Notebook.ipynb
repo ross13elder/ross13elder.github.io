{
  "nbformat": 4,
  "nbformat_minor": 5,
  "metadata": {
    "kernelspec": {
      "display_name": "Python 3",
      "language": "python",
      "name": "python3"
    },
    "language_info": {
      "codemirror_mode": {
        "name": "ipython",
        "version": 3
      },
      "file_extension": ".py",
      "mimetype": "text/x-python",
      "name": "python",
      "nbconvert_exporter": "python",
      "pygments_lexer": "ipython3",
      "version": "3.8.8"
    },
    "colab": {
      "provenance": [],
      "toc_visible": true,
      "include_colab_link": true
    }
  },
  "cells": [
    {
      "cell_type": "markdown",
      "metadata": {
        "id": "view-in-github",
        "colab_type": "text"
      },
      "source": [
        "<a href=\"https://colab.research.google.com/github/ross13elder/ross13elder.github.io/blob/main/ENews_Express_Notebook.ipynb\" target=\"_parent\"><img src=\"https://colab.research.google.com/assets/colab-badge.svg\" alt=\"Open In Colab\"/></a>"
      ]
    },
    {
      "cell_type": "markdown",
      "metadata": {
        "id": "6yDxo9u0d9Na"
      },
      "source": [
        "# Project Business Statistics: E-news Express\n",
        "\n",
        "**Marks: 60**"
      ],
      "id": "6yDxo9u0d9Na"
    },
    {
      "cell_type": "markdown",
      "metadata": {
        "id": "SrLd-ICEmPSD"
      },
      "source": [
        "## Define Problem Statement and Objectives"
      ],
      "id": "SrLd-ICEmPSD"
    },
    {
      "cell_type": "markdown",
      "metadata": {
        "id": "9Vt1PLLqmXNn"
      },
      "source": [
        "**Problem Statement**\n",
        "\n",
        "In recent months there has been a decline in new monthly subscribers to E-news Express; thus they have created a new landing page and wants to see if it is in their best interest to use the landing page compared to the old landing page.\n",
        "\n",
        "**Objective**\n",
        "\n",
        "Using an experiment of 100 randomly selected users, we will randomly assign half of the users to use the old page design while the other half will use the new page design. We will monitor their time spent on the page, preferred language, and if the user decided to convert to become a subscriber of E-news Express.   Questions we will answer through this investigation are:\n",
        "\n",
        "1. Do the users spend more time on the new landing page than on the existing landing page?\n",
        "\n",
        "2. Is the conversion rate (the proportion of users who visit the landing page and get converted) for the new page greater than the conversion rate for the old page?\n",
        "\n",
        "3. Does the converted status depend on the preferred language?\n",
        "\n",
        "4. Is the time spent on the new page the same for the different language users?\n",
        "\n",
        "Answering these questions will help us better asses if transitioning to the new page is worth the companies time and resources.\n",
        "\n",
        "**Data Dictionary**\n",
        "\n",
        "The data contains information regarding the interaction of users in both groups with the two versions of the landing page.\n",
        "\n",
        "- user_id - Unique user ID of the person visiting the website\n",
        "- group - Whether the user belongs to the first group (control) or the second group (treatment)\n",
        "- landing_page - Whether the landing page is new or old\n",
        "- time_spent_on_the_page - Time (in minutes) spent by the user on the landing page\n",
        "- converted - Whether the user gets converted to a subscriber of the news portal or not\n",
        "- language_preferred - Language chosen by the user to view the landing page\n"
      ],
      "id": "9Vt1PLLqmXNn"
    },
    {
      "cell_type": "markdown",
      "metadata": {
        "id": "a6a3d218"
      },
      "source": [
        "## Import all the necessary libraries"
      ],
      "id": "a6a3d218"
    },
    {
      "cell_type": "code",
      "metadata": {
        "id": "658c5dec"
      },
      "source": [
        "# Importing libraries\n",
        "import numpy as np\n",
        "import pandas as pd\n",
        "import matplotlib.pyplot as plt\n",
        "import scipy.stats as stats\n",
        "import statistics\n",
        "import seaborn as sns"
      ],
      "id": "658c5dec",
      "execution_count": null,
      "outputs": []
    },
    {
      "cell_type": "markdown",
      "metadata": {
        "id": "6970dd99"
      },
      "source": [
        "## Reading the Data into a DataFrame"
      ],
      "id": "6970dd99"
    },
    {
      "cell_type": "code",
      "metadata": {
        "id": "d3b95640",
        "colab": {
          "base_uri": "https://localhost:8080/"
        },
        "outputId": "6c975c05-2ace-4d74-c4cc-07d2ec5ef43a"
      },
      "source": [
        "# let colab access to my google drive\n",
        "from google.colab import drive\n",
        "drive.mount('/content/drive')"
      ],
      "id": "d3b95640",
      "execution_count": null,
      "outputs": [
        {
          "output_type": "stream",
          "name": "stdout",
          "text": [
            "Drive already mounted at /content/drive; to attempt to forcibly remount, call drive.mount(\"/content/drive\", force_remount=True).\n"
          ]
        }
      ]
    },
    {
      "cell_type": "code",
      "source": [
        "# Importing data set\n",
        "df = pd.read_csv('/content/drive/MyDrive/Colab Notebooks/Business Statistics/Project/abtest.csv')"
      ],
      "metadata": {
        "id": "HhA9UsqMXB9q"
      },
      "id": "HhA9UsqMXB9q",
      "execution_count": null,
      "outputs": []
    },
    {
      "cell_type": "markdown",
      "metadata": {
        "id": "9d75cfa2"
      },
      "source": [
        "## Explore the dataset and extract insights using Exploratory Data Analysis"
      ],
      "id": "9d75cfa2"
    },
    {
      "cell_type": "markdown",
      "metadata": {
        "id": "27201534"
      },
      "source": [
        "- Data Overview\n",
        "  - Viewing the first and last few rows of the dataset\n",
        "  - Checking the shape of the dataset\n",
        "  - Getting the statistical summary for the variables\n",
        "- Check for missing values\n",
        "- Check for duplicates"
      ],
      "id": "27201534"
    },
    {
      "cell_type": "code",
      "metadata": {
        "id": "e1ad11d4",
        "colab": {
          "base_uri": "https://localhost:8080/",
          "height": 206
        },
        "outputId": "3c136014-486f-4880-e543-b0720f7da107"
      },
      "source": [
        "# Displaying first 5 rows of dataset\n",
        "df.head()"
      ],
      "id": "e1ad11d4",
      "execution_count": null,
      "outputs": [
        {
          "output_type": "execute_result",
          "data": {
            "text/plain": [
              "   user_id      group landing_page  time_spent_on_the_page converted  \\\n",
              "0   546592    control          old                    3.48        no   \n",
              "1   546468  treatment          new                    7.13       yes   \n",
              "2   546462  treatment          new                    4.40        no   \n",
              "3   546567    control          old                    3.02        no   \n",
              "4   546459  treatment          new                    4.75       yes   \n",
              "\n",
              "  language_preferred  \n",
              "0            Spanish  \n",
              "1            English  \n",
              "2            Spanish  \n",
              "3             French  \n",
              "4            Spanish  "
            ],
            "text/html": [
              "\n",
              "\n",
              "  <div id=\"df-4034f2cd-b370-4974-b496-ebdd79219cad\">\n",
              "    <div class=\"colab-df-container\">\n",
              "      <div>\n",
              "<style scoped>\n",
              "    .dataframe tbody tr th:only-of-type {\n",
              "        vertical-align: middle;\n",
              "    }\n",
              "\n",
              "    .dataframe tbody tr th {\n",
              "        vertical-align: top;\n",
              "    }\n",
              "\n",
              "    .dataframe thead th {\n",
              "        text-align: right;\n",
              "    }\n",
              "</style>\n",
              "<table border=\"1\" class=\"dataframe\">\n",
              "  <thead>\n",
              "    <tr style=\"text-align: right;\">\n",
              "      <th></th>\n",
              "      <th>user_id</th>\n",
              "      <th>group</th>\n",
              "      <th>landing_page</th>\n",
              "      <th>time_spent_on_the_page</th>\n",
              "      <th>converted</th>\n",
              "      <th>language_preferred</th>\n",
              "    </tr>\n",
              "  </thead>\n",
              "  <tbody>\n",
              "    <tr>\n",
              "      <th>0</th>\n",
              "      <td>546592</td>\n",
              "      <td>control</td>\n",
              "      <td>old</td>\n",
              "      <td>3.48</td>\n",
              "      <td>no</td>\n",
              "      <td>Spanish</td>\n",
              "    </tr>\n",
              "    <tr>\n",
              "      <th>1</th>\n",
              "      <td>546468</td>\n",
              "      <td>treatment</td>\n",
              "      <td>new</td>\n",
              "      <td>7.13</td>\n",
              "      <td>yes</td>\n",
              "      <td>English</td>\n",
              "    </tr>\n",
              "    <tr>\n",
              "      <th>2</th>\n",
              "      <td>546462</td>\n",
              "      <td>treatment</td>\n",
              "      <td>new</td>\n",
              "      <td>4.40</td>\n",
              "      <td>no</td>\n",
              "      <td>Spanish</td>\n",
              "    </tr>\n",
              "    <tr>\n",
              "      <th>3</th>\n",
              "      <td>546567</td>\n",
              "      <td>control</td>\n",
              "      <td>old</td>\n",
              "      <td>3.02</td>\n",
              "      <td>no</td>\n",
              "      <td>French</td>\n",
              "    </tr>\n",
              "    <tr>\n",
              "      <th>4</th>\n",
              "      <td>546459</td>\n",
              "      <td>treatment</td>\n",
              "      <td>new</td>\n",
              "      <td>4.75</td>\n",
              "      <td>yes</td>\n",
              "      <td>Spanish</td>\n",
              "    </tr>\n",
              "  </tbody>\n",
              "</table>\n",
              "</div>\n",
              "      <button class=\"colab-df-convert\" onclick=\"convertToInteractive('df-4034f2cd-b370-4974-b496-ebdd79219cad')\"\n",
              "              title=\"Convert this dataframe to an interactive table.\"\n",
              "              style=\"display:none;\">\n",
              "\n",
              "  <svg xmlns=\"http://www.w3.org/2000/svg\" height=\"24px\"viewBox=\"0 0 24 24\"\n",
              "       width=\"24px\">\n",
              "    <path d=\"M0 0h24v24H0V0z\" fill=\"none\"/>\n",
              "    <path d=\"M18.56 5.44l.94 2.06.94-2.06 2.06-.94-2.06-.94-.94-2.06-.94 2.06-2.06.94zm-11 1L8.5 8.5l.94-2.06 2.06-.94-2.06-.94L8.5 2.5l-.94 2.06-2.06.94zm10 10l.94 2.06.94-2.06 2.06-.94-2.06-.94-.94-2.06-.94 2.06-2.06.94z\"/><path d=\"M17.41 7.96l-1.37-1.37c-.4-.4-.92-.59-1.43-.59-.52 0-1.04.2-1.43.59L10.3 9.45l-7.72 7.72c-.78.78-.78 2.05 0 2.83L4 21.41c.39.39.9.59 1.41.59.51 0 1.02-.2 1.41-.59l7.78-7.78 2.81-2.81c.8-.78.8-2.07 0-2.86zM5.41 20L4 18.59l7.72-7.72 1.47 1.35L5.41 20z\"/>\n",
              "  </svg>\n",
              "      </button>\n",
              "\n",
              "\n",
              "\n",
              "    <div id=\"df-554ed465-03d4-4f8e-9061-f8bf8c6ff492\">\n",
              "      <button class=\"colab-df-quickchart\" onclick=\"quickchart('df-554ed465-03d4-4f8e-9061-f8bf8c6ff492')\"\n",
              "              title=\"Suggest charts.\"\n",
              "              style=\"display:none;\">\n",
              "\n",
              "<svg xmlns=\"http://www.w3.org/2000/svg\" height=\"24px\"viewBox=\"0 0 24 24\"\n",
              "     width=\"24px\">\n",
              "    <g>\n",
              "        <path d=\"M19 3H5c-1.1 0-2 .9-2 2v14c0 1.1.9 2 2 2h14c1.1 0 2-.9 2-2V5c0-1.1-.9-2-2-2zM9 17H7v-7h2v7zm4 0h-2V7h2v10zm4 0h-2v-4h2v4z\"/>\n",
              "    </g>\n",
              "</svg>\n",
              "      </button>\n",
              "    </div>\n",
              "\n",
              "<style>\n",
              "  .colab-df-quickchart {\n",
              "    background-color: #E8F0FE;\n",
              "    border: none;\n",
              "    border-radius: 50%;\n",
              "    cursor: pointer;\n",
              "    display: none;\n",
              "    fill: #1967D2;\n",
              "    height: 32px;\n",
              "    padding: 0 0 0 0;\n",
              "    width: 32px;\n",
              "  }\n",
              "\n",
              "  .colab-df-quickchart:hover {\n",
              "    background-color: #E2EBFA;\n",
              "    box-shadow: 0px 1px 2px rgba(60, 64, 67, 0.3), 0px 1px 3px 1px rgba(60, 64, 67, 0.15);\n",
              "    fill: #174EA6;\n",
              "  }\n",
              "\n",
              "  [theme=dark] .colab-df-quickchart {\n",
              "    background-color: #3B4455;\n",
              "    fill: #D2E3FC;\n",
              "  }\n",
              "\n",
              "  [theme=dark] .colab-df-quickchart:hover {\n",
              "    background-color: #434B5C;\n",
              "    box-shadow: 0px 1px 3px 1px rgba(0, 0, 0, 0.15);\n",
              "    filter: drop-shadow(0px 1px 2px rgba(0, 0, 0, 0.3));\n",
              "    fill: #FFFFFF;\n",
              "  }\n",
              "</style>\n",
              "\n",
              "    <script>\n",
              "      async function quickchart(key) {\n",
              "        const containerElement = document.querySelector('#' + key);\n",
              "        const charts = await google.colab.kernel.invokeFunction(\n",
              "            'suggestCharts', [key], {});\n",
              "      }\n",
              "    </script>\n",
              "\n",
              "      <script>\n",
              "\n",
              "function displayQuickchartButton(domScope) {\n",
              "  let quickchartButtonEl =\n",
              "    domScope.querySelector('#df-554ed465-03d4-4f8e-9061-f8bf8c6ff492 button.colab-df-quickchart');\n",
              "  quickchartButtonEl.style.display =\n",
              "    google.colab.kernel.accessAllowed ? 'block' : 'none';\n",
              "}\n",
              "\n",
              "        displayQuickchartButton(document);\n",
              "      </script>\n",
              "      <style>\n",
              "    .colab-df-container {\n",
              "      display:flex;\n",
              "      flex-wrap:wrap;\n",
              "      gap: 12px;\n",
              "    }\n",
              "\n",
              "    .colab-df-convert {\n",
              "      background-color: #E8F0FE;\n",
              "      border: none;\n",
              "      border-radius: 50%;\n",
              "      cursor: pointer;\n",
              "      display: none;\n",
              "      fill: #1967D2;\n",
              "      height: 32px;\n",
              "      padding: 0 0 0 0;\n",
              "      width: 32px;\n",
              "    }\n",
              "\n",
              "    .colab-df-convert:hover {\n",
              "      background-color: #E2EBFA;\n",
              "      box-shadow: 0px 1px 2px rgba(60, 64, 67, 0.3), 0px 1px 3px 1px rgba(60, 64, 67, 0.15);\n",
              "      fill: #174EA6;\n",
              "    }\n",
              "\n",
              "    [theme=dark] .colab-df-convert {\n",
              "      background-color: #3B4455;\n",
              "      fill: #D2E3FC;\n",
              "    }\n",
              "\n",
              "    [theme=dark] .colab-df-convert:hover {\n",
              "      background-color: #434B5C;\n",
              "      box-shadow: 0px 1px 3px 1px rgba(0, 0, 0, 0.15);\n",
              "      filter: drop-shadow(0px 1px 2px rgba(0, 0, 0, 0.3));\n",
              "      fill: #FFFFFF;\n",
              "    }\n",
              "  </style>\n",
              "\n",
              "      <script>\n",
              "        const buttonEl =\n",
              "          document.querySelector('#df-4034f2cd-b370-4974-b496-ebdd79219cad button.colab-df-convert');\n",
              "        buttonEl.style.display =\n",
              "          google.colab.kernel.accessAllowed ? 'block' : 'none';\n",
              "\n",
              "        async function convertToInteractive(key) {\n",
              "          const element = document.querySelector('#df-4034f2cd-b370-4974-b496-ebdd79219cad');\n",
              "          const dataTable =\n",
              "            await google.colab.kernel.invokeFunction('convertToInteractive',\n",
              "                                                     [key], {});\n",
              "          if (!dataTable) return;\n",
              "\n",
              "          const docLinkHtml = 'Like what you see? Visit the ' +\n",
              "            '<a target=\"_blank\" href=https://colab.research.google.com/notebooks/data_table.ipynb>data table notebook</a>'\n",
              "            + ' to learn more about interactive tables.';\n",
              "          element.innerHTML = '';\n",
              "          dataTable['output_type'] = 'display_data';\n",
              "          await google.colab.output.renderOutput(dataTable, element);\n",
              "          const docLink = document.createElement('div');\n",
              "          docLink.innerHTML = docLinkHtml;\n",
              "          element.appendChild(docLink);\n",
              "        }\n",
              "      </script>\n",
              "    </div>\n",
              "  </div>\n"
            ]
          },
          "metadata": {},
          "execution_count": 4
        }
      ]
    },
    {
      "cell_type": "code",
      "source": [
        "# Displaying last 5 rows of dataset\n",
        "df.tail()"
      ],
      "metadata": {
        "colab": {
          "base_uri": "https://localhost:8080/",
          "height": 206
        },
        "id": "mJIGj5bqYBm9",
        "outputId": "044d741b-6d6e-43e2-dba1-3444aff6f0cb"
      },
      "id": "mJIGj5bqYBm9",
      "execution_count": null,
      "outputs": [
        {
          "output_type": "execute_result",
          "data": {
            "text/plain": [
              "    user_id      group landing_page  time_spent_on_the_page converted  \\\n",
              "95   546446  treatment          new                    5.15        no   \n",
              "96   546544    control          old                    6.52       yes   \n",
              "97   546472  treatment          new                    7.07       yes   \n",
              "98   546481  treatment          new                    6.20       yes   \n",
              "99   546483  treatment          new                    5.86       yes   \n",
              "\n",
              "   language_preferred  \n",
              "95            Spanish  \n",
              "96            English  \n",
              "97            Spanish  \n",
              "98            Spanish  \n",
              "99            English  "
            ],
            "text/html": [
              "\n",
              "\n",
              "  <div id=\"df-c46c0371-742b-4036-a058-b76616d921c9\">\n",
              "    <div class=\"colab-df-container\">\n",
              "      <div>\n",
              "<style scoped>\n",
              "    .dataframe tbody tr th:only-of-type {\n",
              "        vertical-align: middle;\n",
              "    }\n",
              "\n",
              "    .dataframe tbody tr th {\n",
              "        vertical-align: top;\n",
              "    }\n",
              "\n",
              "    .dataframe thead th {\n",
              "        text-align: right;\n",
              "    }\n",
              "</style>\n",
              "<table border=\"1\" class=\"dataframe\">\n",
              "  <thead>\n",
              "    <tr style=\"text-align: right;\">\n",
              "      <th></th>\n",
              "      <th>user_id</th>\n",
              "      <th>group</th>\n",
              "      <th>landing_page</th>\n",
              "      <th>time_spent_on_the_page</th>\n",
              "      <th>converted</th>\n",
              "      <th>language_preferred</th>\n",
              "    </tr>\n",
              "  </thead>\n",
              "  <tbody>\n",
              "    <tr>\n",
              "      <th>95</th>\n",
              "      <td>546446</td>\n",
              "      <td>treatment</td>\n",
              "      <td>new</td>\n",
              "      <td>5.15</td>\n",
              "      <td>no</td>\n",
              "      <td>Spanish</td>\n",
              "    </tr>\n",
              "    <tr>\n",
              "      <th>96</th>\n",
              "      <td>546544</td>\n",
              "      <td>control</td>\n",
              "      <td>old</td>\n",
              "      <td>6.52</td>\n",
              "      <td>yes</td>\n",
              "      <td>English</td>\n",
              "    </tr>\n",
              "    <tr>\n",
              "      <th>97</th>\n",
              "      <td>546472</td>\n",
              "      <td>treatment</td>\n",
              "      <td>new</td>\n",
              "      <td>7.07</td>\n",
              "      <td>yes</td>\n",
              "      <td>Spanish</td>\n",
              "    </tr>\n",
              "    <tr>\n",
              "      <th>98</th>\n",
              "      <td>546481</td>\n",
              "      <td>treatment</td>\n",
              "      <td>new</td>\n",
              "      <td>6.20</td>\n",
              "      <td>yes</td>\n",
              "      <td>Spanish</td>\n",
              "    </tr>\n",
              "    <tr>\n",
              "      <th>99</th>\n",
              "      <td>546483</td>\n",
              "      <td>treatment</td>\n",
              "      <td>new</td>\n",
              "      <td>5.86</td>\n",
              "      <td>yes</td>\n",
              "      <td>English</td>\n",
              "    </tr>\n",
              "  </tbody>\n",
              "</table>\n",
              "</div>\n",
              "      <button class=\"colab-df-convert\" onclick=\"convertToInteractive('df-c46c0371-742b-4036-a058-b76616d921c9')\"\n",
              "              title=\"Convert this dataframe to an interactive table.\"\n",
              "              style=\"display:none;\">\n",
              "\n",
              "  <svg xmlns=\"http://www.w3.org/2000/svg\" height=\"24px\"viewBox=\"0 0 24 24\"\n",
              "       width=\"24px\">\n",
              "    <path d=\"M0 0h24v24H0V0z\" fill=\"none\"/>\n",
              "    <path d=\"M18.56 5.44l.94 2.06.94-2.06 2.06-.94-2.06-.94-.94-2.06-.94 2.06-2.06.94zm-11 1L8.5 8.5l.94-2.06 2.06-.94-2.06-.94L8.5 2.5l-.94 2.06-2.06.94zm10 10l.94 2.06.94-2.06 2.06-.94-2.06-.94-.94-2.06-.94 2.06-2.06.94z\"/><path d=\"M17.41 7.96l-1.37-1.37c-.4-.4-.92-.59-1.43-.59-.52 0-1.04.2-1.43.59L10.3 9.45l-7.72 7.72c-.78.78-.78 2.05 0 2.83L4 21.41c.39.39.9.59 1.41.59.51 0 1.02-.2 1.41-.59l7.78-7.78 2.81-2.81c.8-.78.8-2.07 0-2.86zM5.41 20L4 18.59l7.72-7.72 1.47 1.35L5.41 20z\"/>\n",
              "  </svg>\n",
              "      </button>\n",
              "\n",
              "\n",
              "\n",
              "    <div id=\"df-f27d5ac2-e118-4d33-abaa-0c10805e50cb\">\n",
              "      <button class=\"colab-df-quickchart\" onclick=\"quickchart('df-f27d5ac2-e118-4d33-abaa-0c10805e50cb')\"\n",
              "              title=\"Suggest charts.\"\n",
              "              style=\"display:none;\">\n",
              "\n",
              "<svg xmlns=\"http://www.w3.org/2000/svg\" height=\"24px\"viewBox=\"0 0 24 24\"\n",
              "     width=\"24px\">\n",
              "    <g>\n",
              "        <path d=\"M19 3H5c-1.1 0-2 .9-2 2v14c0 1.1.9 2 2 2h14c1.1 0 2-.9 2-2V5c0-1.1-.9-2-2-2zM9 17H7v-7h2v7zm4 0h-2V7h2v10zm4 0h-2v-4h2v4z\"/>\n",
              "    </g>\n",
              "</svg>\n",
              "      </button>\n",
              "    </div>\n",
              "\n",
              "<style>\n",
              "  .colab-df-quickchart {\n",
              "    background-color: #E8F0FE;\n",
              "    border: none;\n",
              "    border-radius: 50%;\n",
              "    cursor: pointer;\n",
              "    display: none;\n",
              "    fill: #1967D2;\n",
              "    height: 32px;\n",
              "    padding: 0 0 0 0;\n",
              "    width: 32px;\n",
              "  }\n",
              "\n",
              "  .colab-df-quickchart:hover {\n",
              "    background-color: #E2EBFA;\n",
              "    box-shadow: 0px 1px 2px rgba(60, 64, 67, 0.3), 0px 1px 3px 1px rgba(60, 64, 67, 0.15);\n",
              "    fill: #174EA6;\n",
              "  }\n",
              "\n",
              "  [theme=dark] .colab-df-quickchart {\n",
              "    background-color: #3B4455;\n",
              "    fill: #D2E3FC;\n",
              "  }\n",
              "\n",
              "  [theme=dark] .colab-df-quickchart:hover {\n",
              "    background-color: #434B5C;\n",
              "    box-shadow: 0px 1px 3px 1px rgba(0, 0, 0, 0.15);\n",
              "    filter: drop-shadow(0px 1px 2px rgba(0, 0, 0, 0.3));\n",
              "    fill: #FFFFFF;\n",
              "  }\n",
              "</style>\n",
              "\n",
              "    <script>\n",
              "      async function quickchart(key) {\n",
              "        const containerElement = document.querySelector('#' + key);\n",
              "        const charts = await google.colab.kernel.invokeFunction(\n",
              "            'suggestCharts', [key], {});\n",
              "      }\n",
              "    </script>\n",
              "\n",
              "      <script>\n",
              "\n",
              "function displayQuickchartButton(domScope) {\n",
              "  let quickchartButtonEl =\n",
              "    domScope.querySelector('#df-f27d5ac2-e118-4d33-abaa-0c10805e50cb button.colab-df-quickchart');\n",
              "  quickchartButtonEl.style.display =\n",
              "    google.colab.kernel.accessAllowed ? 'block' : 'none';\n",
              "}\n",
              "\n",
              "        displayQuickchartButton(document);\n",
              "      </script>\n",
              "      <style>\n",
              "    .colab-df-container {\n",
              "      display:flex;\n",
              "      flex-wrap:wrap;\n",
              "      gap: 12px;\n",
              "    }\n",
              "\n",
              "    .colab-df-convert {\n",
              "      background-color: #E8F0FE;\n",
              "      border: none;\n",
              "      border-radius: 50%;\n",
              "      cursor: pointer;\n",
              "      display: none;\n",
              "      fill: #1967D2;\n",
              "      height: 32px;\n",
              "      padding: 0 0 0 0;\n",
              "      width: 32px;\n",
              "    }\n",
              "\n",
              "    .colab-df-convert:hover {\n",
              "      background-color: #E2EBFA;\n",
              "      box-shadow: 0px 1px 2px rgba(60, 64, 67, 0.3), 0px 1px 3px 1px rgba(60, 64, 67, 0.15);\n",
              "      fill: #174EA6;\n",
              "    }\n",
              "\n",
              "    [theme=dark] .colab-df-convert {\n",
              "      background-color: #3B4455;\n",
              "      fill: #D2E3FC;\n",
              "    }\n",
              "\n",
              "    [theme=dark] .colab-df-convert:hover {\n",
              "      background-color: #434B5C;\n",
              "      box-shadow: 0px 1px 3px 1px rgba(0, 0, 0, 0.15);\n",
              "      filter: drop-shadow(0px 1px 2px rgba(0, 0, 0, 0.3));\n",
              "      fill: #FFFFFF;\n",
              "    }\n",
              "  </style>\n",
              "\n",
              "      <script>\n",
              "        const buttonEl =\n",
              "          document.querySelector('#df-c46c0371-742b-4036-a058-b76616d921c9 button.colab-df-convert');\n",
              "        buttonEl.style.display =\n",
              "          google.colab.kernel.accessAllowed ? 'block' : 'none';\n",
              "\n",
              "        async function convertToInteractive(key) {\n",
              "          const element = document.querySelector('#df-c46c0371-742b-4036-a058-b76616d921c9');\n",
              "          const dataTable =\n",
              "            await google.colab.kernel.invokeFunction('convertToInteractive',\n",
              "                                                     [key], {});\n",
              "          if (!dataTable) return;\n",
              "\n",
              "          const docLinkHtml = 'Like what you see? Visit the ' +\n",
              "            '<a target=\"_blank\" href=https://colab.research.google.com/notebooks/data_table.ipynb>data table notebook</a>'\n",
              "            + ' to learn more about interactive tables.';\n",
              "          element.innerHTML = '';\n",
              "          dataTable['output_type'] = 'display_data';\n",
              "          await google.colab.output.renderOutput(dataTable, element);\n",
              "          const docLink = document.createElement('div');\n",
              "          docLink.innerHTML = docLinkHtml;\n",
              "          element.appendChild(docLink);\n",
              "        }\n",
              "      </script>\n",
              "    </div>\n",
              "  </div>\n"
            ]
          },
          "metadata": {},
          "execution_count": 5
        }
      ]
    },
    {
      "cell_type": "code",
      "source": [
        "# Looking at the dimensions of dataset\n",
        "df.shape"
      ],
      "metadata": {
        "colab": {
          "base_uri": "https://localhost:8080/"
        },
        "id": "Lu7fc9bnYTa1",
        "outputId": "11bc1901-7350-4b3f-d29a-25a6a25ac261"
      },
      "id": "Lu7fc9bnYTa1",
      "execution_count": null,
      "outputs": [
        {
          "output_type": "execute_result",
          "data": {
            "text/plain": [
              "(100, 6)"
            ]
          },
          "metadata": {},
          "execution_count": 6
        }
      ]
    },
    {
      "cell_type": "code",
      "source": [
        "# Looking at type of data in dataset\n",
        "df.info()"
      ],
      "metadata": {
        "colab": {
          "base_uri": "https://localhost:8080/"
        },
        "id": "NEMGa2UzYg-N",
        "outputId": "879cc7b7-3189-4aaa-f80d-6d51a2c59912"
      },
      "id": "NEMGa2UzYg-N",
      "execution_count": null,
      "outputs": [
        {
          "output_type": "stream",
          "name": "stdout",
          "text": [
            "<class 'pandas.core.frame.DataFrame'>\n",
            "RangeIndex: 100 entries, 0 to 99\n",
            "Data columns (total 6 columns):\n",
            " #   Column                  Non-Null Count  Dtype  \n",
            "---  ------                  --------------  -----  \n",
            " 0   user_id                 100 non-null    int64  \n",
            " 1   group                   100 non-null    object \n",
            " 2   landing_page            100 non-null    object \n",
            " 3   time_spent_on_the_page  100 non-null    float64\n",
            " 4   converted               100 non-null    object \n",
            " 5   language_preferred      100 non-null    object \n",
            "dtypes: float64(1), int64(1), object(4)\n",
            "memory usage: 4.8+ KB\n"
          ]
        }
      ]
    },
    {
      "cell_type": "code",
      "source": [
        "# Checking t see how many missing values are present in each column\n",
        "df.isnull().sum()"
      ],
      "metadata": {
        "colab": {
          "base_uri": "https://localhost:8080/"
        },
        "id": "pnNdC0ZSZJLG",
        "outputId": "fb51986e-33a3-4317-9eb3-fc606a95934b"
      },
      "id": "pnNdC0ZSZJLG",
      "execution_count": null,
      "outputs": [
        {
          "output_type": "execute_result",
          "data": {
            "text/plain": [
              "user_id                   0\n",
              "group                     0\n",
              "landing_page              0\n",
              "time_spent_on_the_page    0\n",
              "converted                 0\n",
              "language_preferred        0\n",
              "dtype: int64"
            ]
          },
          "metadata": {},
          "execution_count": 8
        }
      ]
    },
    {
      "cell_type": "code",
      "source": [
        "# Checking statistical summary of the data\n",
        "df.describe().T"
      ],
      "metadata": {
        "colab": {
          "base_uri": "https://localhost:8080/",
          "height": 112
        },
        "id": "NGt57MLDZe6q",
        "outputId": "eff7e130-6a79-4e2a-c3f0-c3fd06a7e49c"
      },
      "id": "NGt57MLDZe6q",
      "execution_count": null,
      "outputs": [
        {
          "output_type": "execute_result",
          "data": {
            "text/plain": [
              "                        count         mean        std        min        25%  \\\n",
              "user_id                 100.0  546517.0000  52.295779  546443.00  546467.75   \n",
              "time_spent_on_the_page  100.0       5.3778   2.378166       0.19       3.88   \n",
              "\n",
              "                               50%          75%        max  \n",
              "user_id                 546492.500  546567.2500  546592.00  \n",
              "time_spent_on_the_page       5.415       7.0225      10.71  "
            ],
            "text/html": [
              "\n",
              "\n",
              "  <div id=\"df-254fb626-221e-4cef-8c1d-8ea709b03c08\">\n",
              "    <div class=\"colab-df-container\">\n",
              "      <div>\n",
              "<style scoped>\n",
              "    .dataframe tbody tr th:only-of-type {\n",
              "        vertical-align: middle;\n",
              "    }\n",
              "\n",
              "    .dataframe tbody tr th {\n",
              "        vertical-align: top;\n",
              "    }\n",
              "\n",
              "    .dataframe thead th {\n",
              "        text-align: right;\n",
              "    }\n",
              "</style>\n",
              "<table border=\"1\" class=\"dataframe\">\n",
              "  <thead>\n",
              "    <tr style=\"text-align: right;\">\n",
              "      <th></th>\n",
              "      <th>count</th>\n",
              "      <th>mean</th>\n",
              "      <th>std</th>\n",
              "      <th>min</th>\n",
              "      <th>25%</th>\n",
              "      <th>50%</th>\n",
              "      <th>75%</th>\n",
              "      <th>max</th>\n",
              "    </tr>\n",
              "  </thead>\n",
              "  <tbody>\n",
              "    <tr>\n",
              "      <th>user_id</th>\n",
              "      <td>100.0</td>\n",
              "      <td>546517.0000</td>\n",
              "      <td>52.295779</td>\n",
              "      <td>546443.00</td>\n",
              "      <td>546467.75</td>\n",
              "      <td>546492.500</td>\n",
              "      <td>546567.2500</td>\n",
              "      <td>546592.00</td>\n",
              "    </tr>\n",
              "    <tr>\n",
              "      <th>time_spent_on_the_page</th>\n",
              "      <td>100.0</td>\n",
              "      <td>5.3778</td>\n",
              "      <td>2.378166</td>\n",
              "      <td>0.19</td>\n",
              "      <td>3.88</td>\n",
              "      <td>5.415</td>\n",
              "      <td>7.0225</td>\n",
              "      <td>10.71</td>\n",
              "    </tr>\n",
              "  </tbody>\n",
              "</table>\n",
              "</div>\n",
              "      <button class=\"colab-df-convert\" onclick=\"convertToInteractive('df-254fb626-221e-4cef-8c1d-8ea709b03c08')\"\n",
              "              title=\"Convert this dataframe to an interactive table.\"\n",
              "              style=\"display:none;\">\n",
              "\n",
              "  <svg xmlns=\"http://www.w3.org/2000/svg\" height=\"24px\"viewBox=\"0 0 24 24\"\n",
              "       width=\"24px\">\n",
              "    <path d=\"M0 0h24v24H0V0z\" fill=\"none\"/>\n",
              "    <path d=\"M18.56 5.44l.94 2.06.94-2.06 2.06-.94-2.06-.94-.94-2.06-.94 2.06-2.06.94zm-11 1L8.5 8.5l.94-2.06 2.06-.94-2.06-.94L8.5 2.5l-.94 2.06-2.06.94zm10 10l.94 2.06.94-2.06 2.06-.94-2.06-.94-.94-2.06-.94 2.06-2.06.94z\"/><path d=\"M17.41 7.96l-1.37-1.37c-.4-.4-.92-.59-1.43-.59-.52 0-1.04.2-1.43.59L10.3 9.45l-7.72 7.72c-.78.78-.78 2.05 0 2.83L4 21.41c.39.39.9.59 1.41.59.51 0 1.02-.2 1.41-.59l7.78-7.78 2.81-2.81c.8-.78.8-2.07 0-2.86zM5.41 20L4 18.59l7.72-7.72 1.47 1.35L5.41 20z\"/>\n",
              "  </svg>\n",
              "      </button>\n",
              "\n",
              "\n",
              "\n",
              "    <div id=\"df-652090e0-efbc-4707-83cc-0589c55abf32\">\n",
              "      <button class=\"colab-df-quickchart\" onclick=\"quickchart('df-652090e0-efbc-4707-83cc-0589c55abf32')\"\n",
              "              title=\"Suggest charts.\"\n",
              "              style=\"display:none;\">\n",
              "\n",
              "<svg xmlns=\"http://www.w3.org/2000/svg\" height=\"24px\"viewBox=\"0 0 24 24\"\n",
              "     width=\"24px\">\n",
              "    <g>\n",
              "        <path d=\"M19 3H5c-1.1 0-2 .9-2 2v14c0 1.1.9 2 2 2h14c1.1 0 2-.9 2-2V5c0-1.1-.9-2-2-2zM9 17H7v-7h2v7zm4 0h-2V7h2v10zm4 0h-2v-4h2v4z\"/>\n",
              "    </g>\n",
              "</svg>\n",
              "      </button>\n",
              "    </div>\n",
              "\n",
              "<style>\n",
              "  .colab-df-quickchart {\n",
              "    background-color: #E8F0FE;\n",
              "    border: none;\n",
              "    border-radius: 50%;\n",
              "    cursor: pointer;\n",
              "    display: none;\n",
              "    fill: #1967D2;\n",
              "    height: 32px;\n",
              "    padding: 0 0 0 0;\n",
              "    width: 32px;\n",
              "  }\n",
              "\n",
              "  .colab-df-quickchart:hover {\n",
              "    background-color: #E2EBFA;\n",
              "    box-shadow: 0px 1px 2px rgba(60, 64, 67, 0.3), 0px 1px 3px 1px rgba(60, 64, 67, 0.15);\n",
              "    fill: #174EA6;\n",
              "  }\n",
              "\n",
              "  [theme=dark] .colab-df-quickchart {\n",
              "    background-color: #3B4455;\n",
              "    fill: #D2E3FC;\n",
              "  }\n",
              "\n",
              "  [theme=dark] .colab-df-quickchart:hover {\n",
              "    background-color: #434B5C;\n",
              "    box-shadow: 0px 1px 3px 1px rgba(0, 0, 0, 0.15);\n",
              "    filter: drop-shadow(0px 1px 2px rgba(0, 0, 0, 0.3));\n",
              "    fill: #FFFFFF;\n",
              "  }\n",
              "</style>\n",
              "\n",
              "    <script>\n",
              "      async function quickchart(key) {\n",
              "        const containerElement = document.querySelector('#' + key);\n",
              "        const charts = await google.colab.kernel.invokeFunction(\n",
              "            'suggestCharts', [key], {});\n",
              "      }\n",
              "    </script>\n",
              "\n",
              "      <script>\n",
              "\n",
              "function displayQuickchartButton(domScope) {\n",
              "  let quickchartButtonEl =\n",
              "    domScope.querySelector('#df-652090e0-efbc-4707-83cc-0589c55abf32 button.colab-df-quickchart');\n",
              "  quickchartButtonEl.style.display =\n",
              "    google.colab.kernel.accessAllowed ? 'block' : 'none';\n",
              "}\n",
              "\n",
              "        displayQuickchartButton(document);\n",
              "      </script>\n",
              "      <style>\n",
              "    .colab-df-container {\n",
              "      display:flex;\n",
              "      flex-wrap:wrap;\n",
              "      gap: 12px;\n",
              "    }\n",
              "\n",
              "    .colab-df-convert {\n",
              "      background-color: #E8F0FE;\n",
              "      border: none;\n",
              "      border-radius: 50%;\n",
              "      cursor: pointer;\n",
              "      display: none;\n",
              "      fill: #1967D2;\n",
              "      height: 32px;\n",
              "      padding: 0 0 0 0;\n",
              "      width: 32px;\n",
              "    }\n",
              "\n",
              "    .colab-df-convert:hover {\n",
              "      background-color: #E2EBFA;\n",
              "      box-shadow: 0px 1px 2px rgba(60, 64, 67, 0.3), 0px 1px 3px 1px rgba(60, 64, 67, 0.15);\n",
              "      fill: #174EA6;\n",
              "    }\n",
              "\n",
              "    [theme=dark] .colab-df-convert {\n",
              "      background-color: #3B4455;\n",
              "      fill: #D2E3FC;\n",
              "    }\n",
              "\n",
              "    [theme=dark] .colab-df-convert:hover {\n",
              "      background-color: #434B5C;\n",
              "      box-shadow: 0px 1px 3px 1px rgba(0, 0, 0, 0.15);\n",
              "      filter: drop-shadow(0px 1px 2px rgba(0, 0, 0, 0.3));\n",
              "      fill: #FFFFFF;\n",
              "    }\n",
              "  </style>\n",
              "\n",
              "      <script>\n",
              "        const buttonEl =\n",
              "          document.querySelector('#df-254fb626-221e-4cef-8c1d-8ea709b03c08 button.colab-df-convert');\n",
              "        buttonEl.style.display =\n",
              "          google.colab.kernel.accessAllowed ? 'block' : 'none';\n",
              "\n",
              "        async function convertToInteractive(key) {\n",
              "          const element = document.querySelector('#df-254fb626-221e-4cef-8c1d-8ea709b03c08');\n",
              "          const dataTable =\n",
              "            await google.colab.kernel.invokeFunction('convertToInteractive',\n",
              "                                                     [key], {});\n",
              "          if (!dataTable) return;\n",
              "\n",
              "          const docLinkHtml = 'Like what you see? Visit the ' +\n",
              "            '<a target=\"_blank\" href=https://colab.research.google.com/notebooks/data_table.ipynb>data table notebook</a>'\n",
              "            + ' to learn more about interactive tables.';\n",
              "          element.innerHTML = '';\n",
              "          dataTable['output_type'] = 'display_data';\n",
              "          await google.colab.output.renderOutput(dataTable, element);\n",
              "          const docLink = document.createElement('div');\n",
              "          docLink.innerHTML = docLinkHtml;\n",
              "          element.appendChild(docLink);\n",
              "        }\n",
              "      </script>\n",
              "    </div>\n",
              "  </div>\n"
            ]
          },
          "metadata": {},
          "execution_count": 9
        }
      ]
    },
    {
      "cell_type": "code",
      "source": [
        "# Checking for any duplicates of users\n",
        "df['user_id'].nunique()"
      ],
      "metadata": {
        "colab": {
          "base_uri": "https://localhost:8080/"
        },
        "id": "M94w9eIUZ-Kn",
        "outputId": "a1047275-65a1-48ea-ca19-41d59b0b36d1"
      },
      "id": "M94w9eIUZ-Kn",
      "execution_count": null,
      "outputs": [
        {
          "output_type": "execute_result",
          "data": {
            "text/plain": [
              "100"
            ]
          },
          "metadata": {},
          "execution_count": 10
        }
      ]
    },
    {
      "cell_type": "code",
      "source": [
        "df['language_preferred'].value_counts()"
      ],
      "metadata": {
        "colab": {
          "base_uri": "https://localhost:8080/"
        },
        "id": "Hcty0VAXmNkh",
        "outputId": "8b72348e-08ed-496b-b823-b8c24b15017d"
      },
      "id": "Hcty0VAXmNkh",
      "execution_count": null,
      "outputs": [
        {
          "output_type": "execute_result",
          "data": {
            "text/plain": [
              "Spanish    34\n",
              "French     34\n",
              "English    32\n",
              "Name: language_preferred, dtype: int64"
            ]
          },
          "metadata": {},
          "execution_count": 11
        }
      ]
    },
    {
      "cell_type": "markdown",
      "source": [
        "####**Observations**\n",
        "\n",
        "- There are 100 rows, and 6 columns in this dataset.  Each row corresponds to one of the 100 randomly selected users.\n",
        "- There are 2 numerical columns, and 4 object type columns. The user_id column is really a categorical data; therefore, there is really one numerical column which is time spent on the page.  \n",
        "- **Time Spent on the Page:** On average the amount of time spent on the page is 5.3778 minutes.  The minimum amount of time was .19 minute.  The maximum time was 10.71minutes.\n",
        "- There are no missing values, and no user is used more than once.\n",
        "- The dataset takes about 4.8KB.\n",
        "- There are 3 languages being used, and they are Spanish, French, and English.\n",
        "\n",
        "\n",
        "\n"
      ],
      "metadata": {
        "id": "lQ9ElGcWkioQ"
      },
      "id": "lQ9ElGcWkioQ"
    },
    {
      "cell_type": "markdown",
      "metadata": {
        "id": "68f3b2c9"
      },
      "source": [
        "### Univariate Analysis"
      ],
      "id": "68f3b2c9"
    },
    {
      "cell_type": "code",
      "source": [
        "# Distribution of groups\n",
        "sns.countplot(data=df, x ='group');\n",
        "df['group'].value_counts()"
      ],
      "metadata": {
        "colab": {
          "base_uri": "https://localhost:8080/",
          "height": 501
        },
        "id": "zwOWI3OO-Z-h",
        "outputId": "60bcde1a-3be9-4c04-be3a-6d2b3c0fda87"
      },
      "id": "zwOWI3OO-Z-h",
      "execution_count": null,
      "outputs": [
        {
          "output_type": "execute_result",
          "data": {
            "text/plain": [
              "control      50\n",
              "treatment    50\n",
              "Name: group, dtype: int64"
            ]
          },
          "metadata": {},
          "execution_count": 12
        },
        {
          "output_type": "display_data",
          "data": {
            "text/plain": [
              "<Figure size 640x480 with 1 Axes>"
            ],
            "image/png": "[encoded data removed]"
          },
          "metadata": {}
        }
      ]
    },
    {
      "cell_type": "code",
      "source": [
        "# Distribution of landing page\n",
        "sns.countplot(data=df, x='landing_page');\n",
        "df['landing_page'].value_counts()"
      ],
      "metadata": {
        "colab": {
          "base_uri": "https://localhost:8080/",
          "height": 502
        },
        "id": "aLRGBW3nAC2d",
        "outputId": "94d77ea7-b95a-42df-daf6-dee28652cadc"
      },
      "id": "aLRGBW3nAC2d",
      "execution_count": null,
      "outputs": [
        {
          "output_type": "execute_result",
          "data": {
            "text/plain": [
              "old    50\n",
              "new    50\n",
              "Name: landing_page, dtype: int64"
            ]
          },
          "metadata": {},
          "execution_count": 13
        },
        {
          "output_type": "display_data",
          "data": {
            "text/plain": [
              "<Figure size 640x480 with 1 Axes>"
            ],
            "image/png": "[encoded data removed]"
          },
          "metadata": {}
        }
      ]
    },
    {
      "cell_type": "code",
      "metadata": {
        "id": "1932d0f3",
        "colab": {
          "base_uri": "https://localhost:8080/",
          "height": 450
        },
        "outputId": "941c72c3-c3fb-412b-d6e5-b9c7d187b6b6"
      },
      "source": [
        "# Check distribution of time spent on page\n",
        "sns.boxplot(data=df, x='time_spent_on_the_page');"
      ],
      "id": "1932d0f3",
      "execution_count": null,
      "outputs": [
        {
          "output_type": "display_data",
          "data": {
            "text/plain": [
              "<Figure size 640x480 with 1 Axes>"
            ],
            "image/png": "[encoded data removed]"
          },
          "metadata": {}
        }
      ]
    },
    {
      "cell_type": "code",
      "source": [
        "# Distribution of Converted\n",
        "sns.countplot(data=df, x='converted');\n",
        "df['converted'].value_counts()"
      ],
      "metadata": {
        "colab": {
          "base_uri": "https://localhost:8080/",
          "height": 501
        },
        "id": "2wRnlvFtAWHC",
        "outputId": "699e6ebe-9e27-4cbe-9694-40c11efc6262"
      },
      "id": "2wRnlvFtAWHC",
      "execution_count": null,
      "outputs": [
        {
          "output_type": "execute_result",
          "data": {
            "text/plain": [
              "yes    54\n",
              "no     46\n",
              "Name: converted, dtype: int64"
            ]
          },
          "metadata": {},
          "execution_count": 15
        },
        {
          "output_type": "display_data",
          "data": {
            "text/plain": [
              "<Figure size 640x480 with 1 Axes>"
            ],
            "image/png": "[encoded data removed]"
          },
          "metadata": {}
        }
      ]
    },
    {
      "cell_type": "code",
      "source": [
        "# Distribution of Languages\n",
        "sns.countplot(data=df, x='language_preferred');\n",
        "df['language_preferred'].value_counts()"
      ],
      "metadata": {
        "colab": {
          "base_uri": "https://localhost:8080/",
          "height": 519
        },
        "id": "WwVw8BgjBGDn",
        "outputId": "f12b7b8b-832e-446d-9924-d9f866d82f87"
      },
      "id": "WwVw8BgjBGDn",
      "execution_count": null,
      "outputs": [
        {
          "output_type": "execute_result",
          "data": {
            "text/plain": [
              "Spanish    34\n",
              "French     34\n",
              "English    32\n",
              "Name: language_preferred, dtype: int64"
            ]
          },
          "metadata": {},
          "execution_count": 16
        },
        {
          "output_type": "display_data",
          "data": {
            "text/plain": [
              "<Figure size 640x480 with 1 Axes>"
            ],
            "image/png": "[encoded data removed]"
          },
          "metadata": {}
        }
      ]
    },
    {
      "cell_type": "markdown",
      "source": [
        "####**Observations**\n",
        "\n",
        "- **Users:** There are 100 users\n",
        "- **Group and Landing Page:** Three are 50 users for the control group and 50 for the treatment group, which is the same for the new page and old page.  This is because the control group is using the old page, while the treatment group is using the new page.  This was stated in the objective statement. This also means one of these columns is not needed.\n",
        "- **Time Spent on the Page:** The distribution is approximately symmetrical, the mean is 5.3778 minutes. The minimum amount of time was .19 minute, and the maximum time was 10.71minutes to give a range of 10.51minutes.  There are no outliers in this distribution.\n",
        "- **Language Preferred:** There are three languages used and they are Spanish, English, and French.  Spanish and French each had 34 users, and English had 32."
      ],
      "metadata": {
        "id": "lbNKCSH0Bas-"
      },
      "id": "lbNKCSH0Bas-"
    },
    {
      "cell_type": "markdown",
      "metadata": {
        "id": "fad2de2f"
      },
      "source": [
        "### Bivariate Analysis"
      ],
      "id": "fad2de2f"
    },
    {
      "cell_type": "code",
      "metadata": {
        "id": "58e9a1d0",
        "colab": {
          "base_uri": "https://localhost:8080/",
          "height": 450
        },
        "outputId": "681774e2-6ed4-44db-89d6-8b6fdd8938e1"
      },
      "source": [
        "# Distibution of Group vs Time spent on the page\n",
        "sns.boxplot(data=df, x='time_spent_on_the_page', y='group');"
      ],
      "id": "58e9a1d0",
      "execution_count": null,
      "outputs": [
        {
          "output_type": "display_data",
          "data": {
            "text/plain": [
              "<Figure size 640x480 with 1 Axes>"
            ],
            "image/png": "[encoded data removed]"
          },
          "metadata": {}
        }
      ]
    },
    {
      "cell_type": "markdown",
      "source": [
        "- The control group has a greater range of time spent on the page than the treatment group.\n",
        "- Control group(median approx. 4minutes) had a smaller median than the treatment group(median approx. 6minutes) for time spent on the page.\n",
        "- Treatment group has 3 outliers compared to none in the control group.\n",
        "- Control group is slightly right skewed, while the treatment group is approx. symmetrical."
      ],
      "metadata": {
        "id": "fvLyEPuh32EU"
      },
      "id": "fvLyEPuh32EU"
    },
    {
      "cell_type": "code",
      "source": [
        "# Distribution of Time spent on the page vs Converted\n",
        "sns.boxplot(data=df, x='time_spent_on_the_page', y='converted');"
      ],
      "metadata": {
        "colab": {
          "base_uri": "https://localhost:8080/",
          "height": 450
        },
        "id": "fr4h5AIIHP_X",
        "outputId": "ed9ec278-145b-4f14-ac2c-6d05acd98128"
      },
      "id": "fr4h5AIIHP_X",
      "execution_count": null,
      "outputs": [
        {
          "output_type": "display_data",
          "data": {
            "text/plain": [
              "<Figure size 640x480 with 1 Axes>"
            ],
            "image/png": "[encoded data removed]"
          },
          "metadata": {}
        }
      ]
    },
    {
      "cell_type": "code",
      "source": [
        "# Create a new DataFrame for converted users\n",
        "conv = df[df['converted']=='yes']['time_spent_on_the_page']\n",
        "\n",
        "# Finding mean and standard deviation for converted users\n",
        "print('Mean Time spent for converted users is' , conv.mean())\n",
        "print('Standard deviation for converted users is' , conv.std())"
      ],
      "metadata": {
        "colab": {
          "base_uri": "https://localhost:8080/"
        },
        "id": "z63z7vFjcHm8",
        "outputId": "eff0beb9-2bb2-4b45-dbf6-34ca70fab58d"
      },
      "id": "z63z7vFjcHm8",
      "execution_count": null,
      "outputs": [
        {
          "output_type": "stream",
          "name": "stdout",
          "text": [
            "Mean Time spent for converted users is 6.6231481481481485\n",
            "Standard deviation for converted users is 1.708427307329893\n"
          ]
        }
      ]
    },
    {
      "cell_type": "code",
      "source": [
        "# Create a new DataFrame for non-converted users\n",
        "no_conv = df[df['converted']=='no']['time_spent_on_the_page']\n",
        "\n",
        "# Finding mean and standard deviation for non-converted users\n",
        "print('Mean Time spent for converted users is' , no_conv.mean())\n",
        "print('Standard deviation for converted users is' , no_conv.std())"
      ],
      "metadata": {
        "colab": {
          "base_uri": "https://localhost:8080/"
        },
        "id": "ShlWCWHmcNkc",
        "outputId": "812d3f48-941a-482f-d226-0414a60c5ebe"
      },
      "id": "ShlWCWHmcNkc",
      "execution_count": null,
      "outputs": [
        {
          "output_type": "stream",
          "name": "stdout",
          "text": [
            "Mean Time spent for converted users is 3.915869565217392\n",
            "Standard deviation for converted users is 2.226896770632429\n"
          ]
        }
      ]
    },
    {
      "cell_type": "markdown",
      "source": [
        "- Users who converted have a higher median time spent on the page.\n",
        "- At least 75% of converted users spent more time on the page than 75% of users who did not convert.\n",
        "- Users who converted have four outliers, while users who didn't convert have one.\n",
        "- Both distributions are approx. symetrical, and have approx. the same range.\n",
        "- Mean amount of time spent on the page for converted users is more than two-and-half minutes than non-converted users"
      ],
      "metadata": {
        "id": "e3eSV41D6LAE"
      },
      "id": "e3eSV41D6LAE"
    },
    {
      "cell_type": "code",
      "source": [
        "# Distribution of Time spent on the page vs Language\n",
        "sns.boxplot(data=df, x='time_spent_on_the_page', y='language_preferred');"
      ],
      "metadata": {
        "colab": {
          "base_uri": "https://localhost:8080/",
          "height": 450
        },
        "id": "9Jx_9jco2uQD",
        "outputId": "176423b2-d0fc-41fc-d764-11d546275cfb"
      },
      "id": "9Jx_9jco2uQD",
      "execution_count": null,
      "outputs": [
        {
          "output_type": "display_data",
          "data": {
            "text/plain": [
              "<Figure size 640x480 with 1 Axes>"
            ],
            "image/png": "[encoded data removed]"
          },
          "metadata": {}
        }
      ]
    },
    {
      "cell_type": "markdown",
      "source": [
        "- The median amount of time spent on the page is similar for all languages (5.5-6minutes).  English is slightly the highest while French is the lowest.  \n",
        "- Spanish has a smaller range than English and French\n",
        "- Spanish has one low outlier, while the others have none\n",
        "- All the languages dstributions are approx. symmetrical"
      ],
      "metadata": {
        "id": "YFl9YahP7N6W"
      },
      "id": "YFl9YahP7N6W"
    },
    {
      "cell_type": "markdown",
      "source": [
        "####Observations\n",
        "- Language preferred doesn't seem to have much affect on time spent on the page\n",
        "- Converted users spend more time than non-converted users. The first quartile for converted users is greater than the third quartile of non-converted users.\n",
        "- Average amount of time spent on the new page is greater than the old page.\n"
      ],
      "metadata": {
        "id": "bHMS5gUl8WK7"
      },
      "id": "bHMS5gUl8WK7"
    },
    {
      "cell_type": "markdown",
      "metadata": {
        "id": "27906576"
      },
      "source": [
        "## 1. Do the users spend more time on the new landing page than the existing landing page?"
      ],
      "id": "27906576"
    },
    {
      "cell_type": "markdown",
      "metadata": {
        "id": "e5fdf0c8"
      },
      "source": [
        "### Perform Visual Analysis"
      ],
      "id": "e5fdf0c8"
    },
    {
      "cell_type": "code",
      "metadata": {
        "id": "6eZJa41eg21n",
        "colab": {
          "base_uri": "https://localhost:8080/",
          "height": 450
        },
        "outputId": "c640bb29-f190-4d80-e5ab-0499bf200fdb"
      },
      "source": [
        "# Create a boxplot for Time Spent on the Page vs Landing Page\n",
        "sns.boxplot(data=df, x='time_spent_on_the_page', y='landing_page');"
      ],
      "id": "6eZJa41eg21n",
      "execution_count": null,
      "outputs": [
        {
          "output_type": "display_data",
          "data": {
            "text/plain": [
              "<Figure size 640x480 with 1 Axes>"
            ],
            "image/png": "[encoded data removed]"
          },
          "metadata": {}
        }
      ]
    },
    {
      "cell_type": "markdown",
      "source": [
        "- The old page has a greater range of time spent on the page than the new page.\n",
        "- The old page's median (approx. 4minutes) had a smaller median than the new page median(approx. 6minutes) for time spent on the page.\n",
        "- The new page has 3 outliers compared to none in the old page.\n",
        "- The old page time spent is slightly right skewed (close to approx. symmetrical), while the new page time spent is approx. symmetrical."
      ],
      "metadata": {
        "id": "5IWtenymWATD"
      },
      "id": "5IWtenymWATD"
    },
    {
      "cell_type": "markdown",
      "metadata": {
        "id": "y85vUkGMQz7q"
      },
      "source": [
        "###Define the null and alternate hypotheses"
      ],
      "id": "y85vUkGMQz7q"
    },
    {
      "cell_type": "markdown",
      "metadata": {
        "id": "d2ac77ef"
      },
      "source": [
        "𝜇1 = true mean time spent on new landing page\n",
        "\n",
        "𝜇2 = true mean time spent on old landing page\n",
        "\n",
        "Null hypothesis\n",
        "\n",
        "𝐻o: 𝜇1=𝜇2\n",
        "\n",
        "Alternate hypothesis\n",
        "\n",
        "𝐻𝑎: 𝜇1>𝜇2"
      ],
      "id": "d2ac77ef"
    },
    {
      "cell_type": "markdown",
      "metadata": {
        "id": "c7ee4907"
      },
      "source": [
        "### Check Conditions and Select Appropriate Test"
      ],
      "id": "c7ee4907"
    },
    {
      "cell_type": "markdown",
      "metadata": {
        "id": "2c183cd7"
      },
      "source": [
        "- **Random Sampling** - Both samples were randomly selected from the population of interest\n",
        "- **2 Independent Random Samples** - The control group had no affect on the treatment group. Each group is independent of the other.   \n",
        "- **Normally Distributed** - Since both samples are greater than 30, we can use the Central Limit Therom to state the sampling distribution of mean time spent on each landing page are approximately normal.\n",
        "\n",
        "Since all the conditions are met we may run a **Two-Independent Sample T-Test**"
      ],
      "id": "2c183cd7"
    },
    {
      "cell_type": "markdown",
      "metadata": {
        "id": "3f58c9a7"
      },
      "source": [
        "###Decide the significance level"
      ],
      "id": "3f58c9a7"
    },
    {
      "cell_type": "markdown",
      "metadata": {
        "id": "92d7d7ee"
      },
      "source": [
        "We will set our significance level at 5%. ( 𝛂 = 0.05 )"
      ],
      "id": "92d7d7ee"
    },
    {
      "cell_type": "markdown",
      "metadata": {
        "id": "XWvB3U14RSIM"
      },
      "source": [
        "### Collect and prepare data"
      ],
      "id": "XWvB3U14RSIM"
    },
    {
      "cell_type": "code",
      "metadata": {
        "id": "f5a59495",
        "colab": {
          "base_uri": "https://localhost:8080/"
        },
        "outputId": "7561b7c3-5c84-4cad-ccdf-a2bede1de28c"
      },
      "source": [
        "# Create a new DataFrame for users using old landing page\n",
        "old_page = df[df['landing_page']=='old']['time_spent_on_the_page']\n",
        "\n",
        "# Finding mean and standard deviation of old landing page\n",
        "print('Mean Time spent on old page is' , old_page.mean())\n",
        "print('Standard deviation on old page is' , np.std(old_page))"
      ],
      "id": "f5a59495",
      "execution_count": null,
      "outputs": [
        {
          "output_type": "stream",
          "name": "stdout",
          "text": [
            "Mean Time spent on old page is 4.532400000000001\n",
            "Standard deviation on old page is 2.556024694716387\n"
          ]
        }
      ]
    },
    {
      "cell_type": "code",
      "source": [
        "# Create a new DataFrame for users using new landing page\n",
        "new_page = df[df['landing_page']=='new']['time_spent_on_the_page']\n",
        "\n",
        "# Finding mean and standard deviation of new landing page\n",
        "print('Mean Time spent on new page is' , new_page.mean())\n",
        "print('Standard deviation on new page is' , np.std(new_page))"
      ],
      "metadata": {
        "colab": {
          "base_uri": "https://localhost:8080/"
        },
        "id": "iv2_kwsVM3t8",
        "outputId": "0701f704-4e0b-4584-b2be-ef83173793fe"
      },
      "id": "iv2_kwsVM3t8",
      "execution_count": null,
      "outputs": [
        {
          "output_type": "stream",
          "name": "stdout",
          "text": [
            "Mean Time spent on new page is 6.2232\n",
            "Standard deviation on new page is 1.7987689568146321\n"
          ]
        }
      ]
    },
    {
      "cell_type": "markdown",
      "metadata": {
        "id": "f5c5258d"
      },
      "source": [
        "###Calculate the p-value"
      ],
      "id": "f5c5258d"
    },
    {
      "cell_type": "code",
      "metadata": {
        "id": "fac8594a",
        "colab": {
          "base_uri": "https://localhost:8080/"
        },
        "outputId": "9ed85752-5b2e-4267-d5be-eb0a0e8d54ba"
      },
      "source": [
        "# Import the required function\n",
        "from scipy.stats import ttest_ind\n",
        "\n",
        "# Finding the p-value\n",
        "test_stat, p_value = ttest_ind(new_page, old_page, equal_var = False, alternative = 'greater')\n",
        "print('The p-value is ', p_value)"
      ],
      "id": "fac8594a",
      "execution_count": null,
      "outputs": [
        {
          "output_type": "stream",
          "name": "stdout",
          "text": [
            "The p-value is  0.0001392381225166549\n"
          ]
        }
      ]
    },
    {
      "cell_type": "markdown",
      "source": [
        "### Conclusion of test"
      ],
      "metadata": {
        "id": "dKl0kR4eRgm_"
      },
      "id": "dKl0kR4eRgm_"
    },
    {
      "cell_type": "markdown",
      "source": [
        "Since the p-value (.000139) < 𝛂 (.05), we reject the null hypothesis.  There is sufficient evidence to state the mean amount of time spent on the new landing page is greater than the time spent on the old landing page.  "
      ],
      "metadata": {
        "id": "hsT2havKPeph"
      },
      "id": "hsT2havKPeph"
    },
    {
      "cell_type": "markdown",
      "metadata": {
        "id": "353e9d24"
      },
      "source": [
        "## 2. Is the conversion rate (the proportion of users who visit the landing page and get converted) for the new page greater than the conversion rate for the old page?"
      ],
      "id": "353e9d24"
    },
    {
      "cell_type": "markdown",
      "metadata": {
        "id": "eXhW6PzsQv-W"
      },
      "source": [
        "### Perform Visual Analysis"
      ],
      "id": "eXhW6PzsQv-W"
    },
    {
      "cell_type": "code",
      "source": [
        "# Create a stacked bar graph comparing converstion rate vs type of page\n",
        "pd.crosstab(df['landing_page'], df['converted'], normalize='index').plot(kind='bar', stacked=True);"
      ],
      "metadata": {
        "colab": {
          "base_uri": "https://localhost:8080/",
          "height": 464
        },
        "id": "ejmDVpR9SCAb",
        "outputId": "5a6b7dd2-ad27-4572-b607-9ffeaba407b5"
      },
      "id": "ejmDVpR9SCAb",
      "execution_count": null,
      "outputs": [
        {
          "output_type": "display_data",
          "data": {
            "text/plain": [
              "<Figure size 640x480 with 1 Axes>"
            ],
            "image/png": "[encoded data removed]"
          },
          "metadata": {}
        }
      ]
    },
    {
      "cell_type": "markdown",
      "source": [
        "- Conversion rate for new page ( approx. 66%) is greater than the old page (approx. 42%)"
      ],
      "metadata": {
        "id": "WBdXfuW9XNaw"
      },
      "id": "WBdXfuW9XNaw"
    },
    {
      "cell_type": "markdown",
      "metadata": {
        "id": "56b3dafd"
      },
      "source": [
        "###Define the null and alternate hypotheses"
      ],
      "id": "56b3dafd"
    },
    {
      "cell_type": "markdown",
      "source": [
        "𝑝1 = true proportion of users who visit the landing page and get converted for the new page\n",
        "\n",
        "𝑝2 =  true proportion of users who visit the landing page and get converted for the old page\n",
        "\n",
        "Null hypothesis\n",
        "\n",
        "𝐻o:𝑝1=𝑝2\n",
        "\n",
        "Alternate hypothesis\n",
        "\n",
        "𝐻𝑎:𝑝1>𝑝2"
      ],
      "metadata": {
        "id": "LjOhwxKSSC-q"
      },
      "id": "LjOhwxKSSC-q"
    },
    {
      "cell_type": "markdown",
      "metadata": {
        "id": "nMeJpTFXRBIl"
      },
      "source": [
        "### Check Conditions and Select Appropriate Test"
      ],
      "id": "nMeJpTFXRBIl"
    },
    {
      "cell_type": "code",
      "source": [
        "# Finding how many converted for new and old pages\n",
        "df.groupby(['landing_page']).value_counts(['converted'])"
      ],
      "metadata": {
        "colab": {
          "base_uri": "https://localhost:8080/"
        },
        "id": "BFSQgDa7YRsb",
        "outputId": "c6f0d126-ba6d-4a48-a9ec-51164fa02bb9"
      },
      "id": "BFSQgDa7YRsb",
      "execution_count": null,
      "outputs": [
        {
          "output_type": "execute_result",
          "data": {
            "text/plain": [
              "landing_page  converted\n",
              "new           yes          33\n",
              "              no           17\n",
              "old           no           29\n",
              "              yes          21\n",
              "dtype: int64"
            ]
          },
          "metadata": {},
          "execution_count": 27
        }
      ]
    },
    {
      "cell_type": "code",
      "source": [
        "p1 = 33/50\n",
        "print('p1 = Proportion of conversion rate for new page is' , p1)\n",
        "p2 = 21/50\n",
        "print('p2 = Proportion of conversion rate for old page is' , p2)"
      ],
      "metadata": {
        "colab": {
          "base_uri": "https://localhost:8080/"
        },
        "id": "5T9m2hunZ-EO",
        "outputId": "4ef23cb0-5585-4896-f82c-81d72f2951d5"
      },
      "id": "5T9m2hunZ-EO",
      "execution_count": null,
      "outputs": [
        {
          "output_type": "stream",
          "name": "stdout",
          "text": [
            "p1 = Proportion of conversion rate for new page is 0.66\n",
            "p2 = Proportion of conversion rate for old page is 0.42\n"
          ]
        }
      ]
    },
    {
      "cell_type": "code",
      "source": [
        "n1 = 50\n",
        "n2 = 50\n",
        "print('𝑛1𝑝1=', n1*p1)\n",
        "print('𝑛1(1−𝑝1)=', n1*(1-p1))\n",
        "print('𝑛2𝑝2=', n2*p2)\n",
        "print('𝑛2(1−𝑝2)=', n2*(1-p2))"
      ],
      "metadata": {
        "colab": {
          "base_uri": "https://localhost:8080/"
        },
        "id": "3HR2bYT8amzk",
        "outputId": "3930d058-edde-4347-aac5-08bf309cc338"
      },
      "id": "3HR2bYT8amzk",
      "execution_count": null,
      "outputs": [
        {
          "output_type": "stream",
          "name": "stdout",
          "text": [
            "𝑛1𝑝1= 33.0\n",
            "𝑛1(1−𝑝1)= 17.0\n",
            "𝑛2𝑝2= 21.0\n",
            "𝑛2(1−𝑝2)= 29.000000000000004\n"
          ]
        }
      ]
    },
    {
      "cell_type": "markdown",
      "source": [
        "- **Random Sampling** - Both samples were randomly selected from the population of interest\n",
        "- **2 Independent Random Samples** - The control group had no affect on the treatment group. Each group is independent of the other.\n",
        "- **Normally Distributed** - n1=50, p1=.66 , n2=50, p2=.42\n",
        "\n",
        "𝑛1𝑝1 ≥10\n",
        "\n",
        "𝑛1(1−𝑝1) ≥10\n",
        "\n",
        "𝑛2𝑝2 ≥10\n",
        "\n",
        "𝑛2(1−𝑝2) ≥10\n",
        "\n",
        "Therefore, both sampling distibutions are approximately normal.\n",
        "\n",
        "Since all the conditions are met we may run a **Two-Proportion Z-Test**"
      ],
      "metadata": {
        "id": "WuFcmqyaSuqd"
      },
      "id": "WuFcmqyaSuqd"
    },
    {
      "cell_type": "markdown",
      "metadata": {
        "id": "DIo-GQ6bRM2G"
      },
      "source": [
        "###Decide the significance level"
      ],
      "id": "DIo-GQ6bRM2G"
    },
    {
      "cell_type": "markdown",
      "source": [
        "We will set our significance level at 5%. ( 𝛂 = 0.05 )"
      ],
      "metadata": {
        "id": "ZfsVGHK8chpS"
      },
      "id": "ZfsVGHK8chpS"
    },
    {
      "cell_type": "markdown",
      "metadata": {
        "id": "5fed2eac"
      },
      "source": [
        "### Collect and prepare data"
      ],
      "id": "5fed2eac"
    },
    {
      "cell_type": "code",
      "source": [
        "# Create an array of converted users\n",
        "converted_users = np.array([33, 21])\n",
        "\n",
        "# Create an array of users for each landing page\n",
        "sample_size = np.array([50, 50])"
      ],
      "metadata": {
        "id": "TIDnlNwHdtw4"
      },
      "id": "TIDnlNwHdtw4",
      "execution_count": null,
      "outputs": []
    },
    {
      "cell_type": "markdown",
      "metadata": {
        "id": "rhZoeaCfRa29"
      },
      "source": [
        "###Calculate the p-value"
      ],
      "id": "rhZoeaCfRa29"
    },
    {
      "cell_type": "code",
      "source": [
        "# Importing the required fuction\n",
        "from statsmodels.stats.proportion import proportions_ztest\n",
        "\n",
        "# Finding the p-value\n",
        "test_stat, p_value = proportions_ztest(converted_users, sample_size, value= 0, alternative = 'larger')\n",
        "print('The p-value is ' ,p_value)"
      ],
      "metadata": {
        "colab": {
          "base_uri": "https://localhost:8080/"
        },
        "id": "zX0IAGTWclAN",
        "outputId": "c26f273e-56a6-4204-fa55-c1ffbab8f056"
      },
      "id": "zX0IAGTWclAN",
      "execution_count": null,
      "outputs": [
        {
          "output_type": "stream",
          "name": "stdout",
          "text": [
            "The p-value is  0.008026308204056278\n"
          ]
        }
      ]
    },
    {
      "cell_type": "markdown",
      "source": [
        "### Conclusion of test"
      ],
      "metadata": {
        "id": "Rek2lmjbRoE0"
      },
      "id": "Rek2lmjbRoE0"
    },
    {
      "cell_type": "markdown",
      "source": [
        "Since the p-value (.0080263) < 𝛂 (.05), we reject the null hypothesis. There is sufficient evidence to state the conversion rate for the new page is greater than the conversion rate for the old page."
      ],
      "metadata": {
        "id": "MVh0qSxAQ8_E"
      },
      "id": "MVh0qSxAQ8_E"
    },
    {
      "cell_type": "markdown",
      "metadata": {
        "id": "d49bfa2d"
      },
      "source": [
        "## 3. Is the conversion and preferred language are independent or related?"
      ],
      "id": "d49bfa2d"
    },
    {
      "cell_type": "markdown",
      "metadata": {
        "id": "D3tZtSqxRs7F"
      },
      "source": [
        "### Perform Visual Analysis"
      ],
      "id": "D3tZtSqxRs7F"
    },
    {
      "cell_type": "code",
      "source": [
        "# Create a stacked bar graph comparing preferred language vs conversion\n",
        "pd.crosstab(df['language_preferred'], df['converted'], normalize='index').plot(kind='bar', stacked=True);\n",
        "plt.legend(bbox_to_anchor=(1,1));"
      ],
      "metadata": {
        "colab": {
          "base_uri": "https://localhost:8080/",
          "height": 490
        },
        "id": "b5mbZgd7hFKh",
        "outputId": "75ee12ba-bb57-4ce3-978e-e5ad797d09ef"
      },
      "id": "b5mbZgd7hFKh",
      "execution_count": null,
      "outputs": [
        {
          "output_type": "display_data",
          "data": {
            "text/plain": [
              "<Figure size 640x480 with 1 Axes>"
            ],
            "image/png": "[encoded data removed]"
          },
          "metadata": {}
        }
      ]
    },
    {
      "cell_type": "markdown",
      "source": [
        "English(approx. 65%) has the highest converstion rate, then Spanish(approx. 53%), and then French(approx. 44%)"
      ],
      "metadata": {
        "id": "LPqPAho2ipPd"
      },
      "id": "LPqPAho2ipPd"
    },
    {
      "cell_type": "markdown",
      "metadata": {
        "id": "IwZD-T3CRs7F"
      },
      "source": [
        "###Define the null and alternate hypotheses"
      ],
      "id": "IwZD-T3CRs7F"
    },
    {
      "cell_type": "markdown",
      "source": [
        "Null hypothesis\n",
        "\n",
        "𝐻o:  Converstion status is independent of users preferred language.\n",
        "\n",
        "Alternate hypothesis\n",
        "\n",
        "𝐻𝑎:  Converstion status is dependent of  users preferred language."
      ],
      "metadata": {
        "id": "11lCWTZCjx4V"
      },
      "id": "11lCWTZCjx4V"
    },
    {
      "cell_type": "markdown",
      "metadata": {
        "id": "1NLpazVKRs7F"
      },
      "source": [
        "### Check Conditions and Select Appropriate Test"
      ],
      "id": "1NLpazVKRs7F"
    },
    {
      "cell_type": "code",
      "source": [
        "# Creating a contingency table between preferred language and convesion status\n",
        "con_table = pd.crosstab(df['language_preferred'], df['converted'])\n",
        "con_table"
      ],
      "metadata": {
        "colab": {
          "base_uri": "https://localhost:8080/",
          "height": 175
        },
        "id": "Sq8Ttj6AmIpi",
        "outputId": "2aba6089-a3fb-4759-b063-3b154390d99a"
      },
      "id": "Sq8Ttj6AmIpi",
      "execution_count": null,
      "outputs": [
        {
          "output_type": "execute_result",
          "data": {
            "text/plain": [
              "converted           no  yes\n",
              "language_preferred         \n",
              "English             11   21\n",
              "French              19   15\n",
              "Spanish             16   18"
            ],
            "text/html": [
              "\n",
              "\n",
              "  <div id=\"df-2b8ea3be-2ec9-46b5-8c75-f6b99843d89b\">\n",
              "    <div class=\"colab-df-container\">\n",
              "      <div>\n",
              "<style scoped>\n",
              "    .dataframe tbody tr th:only-of-type {\n",
              "        vertical-align: middle;\n",
              "    }\n",
              "\n",
              "    .dataframe tbody tr th {\n",
              "        vertical-align: top;\n",
              "    }\n",
              "\n",
              "    .dataframe thead th {\n",
              "        text-align: right;\n",
              "    }\n",
              "</style>\n",
              "<table border=\"1\" class=\"dataframe\">\n",
              "  <thead>\n",
              "    <tr style=\"text-align: right;\">\n",
              "      <th>converted</th>\n",
              "      <th>no</th>\n",
              "      <th>yes</th>\n",
              "    </tr>\n",
              "    <tr>\n",
              "      <th>language_preferred</th>\n",
              "      <th></th>\n",
              "      <th></th>\n",
              "    </tr>\n",
              "  </thead>\n",
              "  <tbody>\n",
              "    <tr>\n",
              "      <th>English</th>\n",
              "      <td>11</td>\n",
              "      <td>21</td>\n",
              "    </tr>\n",
              "    <tr>\n",
              "      <th>French</th>\n",
              "      <td>19</td>\n",
              "      <td>15</td>\n",
              "    </tr>\n",
              "    <tr>\n",
              "      <th>Spanish</th>\n",
              "      <td>16</td>\n",
              "      <td>18</td>\n",
              "    </tr>\n",
              "  </tbody>\n",
              "</table>\n",
              "</div>\n",
              "      <button class=\"colab-df-convert\" onclick=\"convertToInteractive('df-2b8ea3be-2ec9-46b5-8c75-f6b99843d89b')\"\n",
              "              title=\"Convert this dataframe to an interactive table.\"\n",
              "              style=\"display:none;\">\n",
              "\n",
              "  <svg xmlns=\"http://www.w3.org/2000/svg\" height=\"24px\"viewBox=\"0 0 24 24\"\n",
              "       width=\"24px\">\n",
              "    <path d=\"M0 0h24v24H0V0z\" fill=\"none\"/>\n",
              "    <path d=\"M18.56 5.44l.94 2.06.94-2.06 2.06-.94-2.06-.94-.94-2.06-.94 2.06-2.06.94zm-11 1L8.5 8.5l.94-2.06 2.06-.94-2.06-.94L8.5 2.5l-.94 2.06-2.06.94zm10 10l.94 2.06.94-2.06 2.06-.94-2.06-.94-.94-2.06-.94 2.06-2.06.94z\"/><path d=\"M17.41 7.96l-1.37-1.37c-.4-.4-.92-.59-1.43-.59-.52 0-1.04.2-1.43.59L10.3 9.45l-7.72 7.72c-.78.78-.78 2.05 0 2.83L4 21.41c.39.39.9.59 1.41.59.51 0 1.02-.2 1.41-.59l7.78-7.78 2.81-2.81c.8-.78.8-2.07 0-2.86zM5.41 20L4 18.59l7.72-7.72 1.47 1.35L5.41 20z\"/>\n",
              "  </svg>\n",
              "      </button>\n",
              "\n",
              "\n",
              "\n",
              "    <div id=\"df-485c71c6-d1e4-46b2-ac2c-82df3b02a5ba\">\n",
              "      <button class=\"colab-df-quickchart\" onclick=\"quickchart('df-485c71c6-d1e4-46b2-ac2c-82df3b02a5ba')\"\n",
              "              title=\"Suggest charts.\"\n",
              "              style=\"display:none;\">\n",
              "\n",
              "<svg xmlns=\"http://www.w3.org/2000/svg\" height=\"24px\"viewBox=\"0 0 24 24\"\n",
              "     width=\"24px\">\n",
              "    <g>\n",
              "        <path d=\"M19 3H5c-1.1 0-2 .9-2 2v14c0 1.1.9 2 2 2h14c1.1 0 2-.9 2-2V5c0-1.1-.9-2-2-2zM9 17H7v-7h2v7zm4 0h-2V7h2v10zm4 0h-2v-4h2v4z\"/>\n",
              "    </g>\n",
              "</svg>\n",
              "      </button>\n",
              "    </div>\n",
              "\n",
              "<style>\n",
              "  .colab-df-quickchart {\n",
              "    background-color: #E8F0FE;\n",
              "    border: none;\n",
              "    border-radius: 50%;\n",
              "    cursor: pointer;\n",
              "    display: none;\n",
              "    fill: #1967D2;\n",
              "    height: 32px;\n",
              "    padding: 0 0 0 0;\n",
              "    width: 32px;\n",
              "  }\n",
              "\n",
              "  .colab-df-quickchart:hover {\n",
              "    background-color: #E2EBFA;\n",
              "    box-shadow: 0px 1px 2px rgba(60, 64, 67, 0.3), 0px 1px 3px 1px rgba(60, 64, 67, 0.15);\n",
              "    fill: #174EA6;\n",
              "  }\n",
              "\n",
              "  [theme=dark] .colab-df-quickchart {\n",
              "    background-color: #3B4455;\n",
              "    fill: #D2E3FC;\n",
              "  }\n",
              "\n",
              "  [theme=dark] .colab-df-quickchart:hover {\n",
              "    background-color: #434B5C;\n",
              "    box-shadow: 0px 1px 3px 1px rgba(0, 0, 0, 0.15);\n",
              "    filter: drop-shadow(0px 1px 2px rgba(0, 0, 0, 0.3));\n",
              "    fill: #FFFFFF;\n",
              "  }\n",
              "</style>\n",
              "\n",
              "    <script>\n",
              "      async function quickchart(key) {\n",
              "        const containerElement = document.querySelector('#' + key);\n",
              "        const charts = await google.colab.kernel.invokeFunction(\n",
              "            'suggestCharts', [key], {});\n",
              "      }\n",
              "    </script>\n",
              "\n",
              "      <script>\n",
              "\n",
              "function displayQuickchartButton(domScope) {\n",
              "  let quickchartButtonEl =\n",
              "    domScope.querySelector('#df-485c71c6-d1e4-46b2-ac2c-82df3b02a5ba button.colab-df-quickchart');\n",
              "  quickchartButtonEl.style.display =\n",
              "    google.colab.kernel.accessAllowed ? 'block' : 'none';\n",
              "}\n",
              "\n",
              "        displayQuickchartButton(document);\n",
              "      </script>\n",
              "      <style>\n",
              "    .colab-df-container {\n",
              "      display:flex;\n",
              "      flex-wrap:wrap;\n",
              "      gap: 12px;\n",
              "    }\n",
              "\n",
              "    .colab-df-convert {\n",
              "      background-color: #E8F0FE;\n",
              "      border: none;\n",
              "      border-radius: 50%;\n",
              "      cursor: pointer;\n",
              "      display: none;\n",
              "      fill: #1967D2;\n",
              "      height: 32px;\n",
              "      padding: 0 0 0 0;\n",
              "      width: 32px;\n",
              "    }\n",
              "\n",
              "    .colab-df-convert:hover {\n",
              "      background-color: #E2EBFA;\n",
              "      box-shadow: 0px 1px 2px rgba(60, 64, 67, 0.3), 0px 1px 3px 1px rgba(60, 64, 67, 0.15);\n",
              "      fill: #174EA6;\n",
              "    }\n",
              "\n",
              "    [theme=dark] .colab-df-convert {\n",
              "      background-color: #3B4455;\n",
              "      fill: #D2E3FC;\n",
              "    }\n",
              "\n",
              "    [theme=dark] .colab-df-convert:hover {\n",
              "      background-color: #434B5C;\n",
              "      box-shadow: 0px 1px 3px 1px rgba(0, 0, 0, 0.15);\n",
              "      filter: drop-shadow(0px 1px 2px rgba(0, 0, 0, 0.3));\n",
              "      fill: #FFFFFF;\n",
              "    }\n",
              "  </style>\n",
              "\n",
              "      <script>\n",
              "        const buttonEl =\n",
              "          document.querySelector('#df-2b8ea3be-2ec9-46b5-8c75-f6b99843d89b button.colab-df-convert');\n",
              "        buttonEl.style.display =\n",
              "          google.colab.kernel.accessAllowed ? 'block' : 'none';\n",
              "\n",
              "        async function convertToInteractive(key) {\n",
              "          const element = document.querySelector('#df-2b8ea3be-2ec9-46b5-8c75-f6b99843d89b');\n",
              "          const dataTable =\n",
              "            await google.colab.kernel.invokeFunction('convertToInteractive',\n",
              "                                                     [key], {});\n",
              "          if (!dataTable) return;\n",
              "\n",
              "          const docLinkHtml = 'Like what you see? Visit the ' +\n",
              "            '<a target=\"_blank\" href=https://colab.research.google.com/notebooks/data_table.ipynb>data table notebook</a>'\n",
              "            + ' to learn more about interactive tables.';\n",
              "          element.innerHTML = '';\n",
              "          dataTable['output_type'] = 'display_data';\n",
              "          await google.colab.output.renderOutput(dataTable, element);\n",
              "          const docLink = document.createElement('div');\n",
              "          docLink.innerHTML = docLinkHtml;\n",
              "          element.appendChild(docLink);\n",
              "        }\n",
              "      </script>\n",
              "    </div>\n",
              "  </div>\n"
            ]
          },
          "metadata": {},
          "execution_count": 33
        }
      ]
    },
    {
      "cell_type": "code",
      "source": [
        "# Import required test function\n",
        "from scipy.stats import chi2_contingency\n",
        "\n",
        "# Checking Expected Counts and degrees of freedom\n",
        "chi, p_value, dof, expected = chi2_contingency(con_table)\n",
        "\n",
        "print(\"Expected frequencies \\n\", expected)\n",
        "print(\"Degrees of Freedom = \", dof)"
      ],
      "metadata": {
        "colab": {
          "base_uri": "https://localhost:8080/"
        },
        "id": "LKCoDTQ-AES5",
        "outputId": "3a9c6670-99e5-49fa-8156-c4cc296775cf"
      },
      "id": "LKCoDTQ-AES5",
      "execution_count": null,
      "outputs": [
        {
          "output_type": "stream",
          "name": "stdout",
          "text": [
            "Expected frequencies \n",
            " [[14.72 17.28]\n",
            " [15.64 18.36]\n",
            " [15.64 18.36]]\n",
            "Degrees of Freedom =  2\n"
          ]
        }
      ]
    },
    {
      "cell_type": "markdown",
      "source": [
        "- **Random Sampling** - It was a random sample of 100 users from the population of interest\n",
        "- **Expected Counts** - All expected counts are greater than or equal to 5\n",
        "- Degrees of Freedom is 2.  Calculated by (3-1)(2-1) = 2\n",
        "\n",
        "All Conditions are met; therefore, we can run a **Chi-Squared Test for Independence**"
      ],
      "metadata": {
        "id": "wERJMcMQkR-Q"
      },
      "id": "wERJMcMQkR-Q"
    },
    {
      "cell_type": "markdown",
      "metadata": {
        "id": "nZDliFhBRs7F"
      },
      "source": [
        "###Decide the significance level"
      ],
      "id": "nZDliFhBRs7F"
    },
    {
      "cell_type": "markdown",
      "source": [
        "We will set our significance level at 5%. ( 𝛂 = 0.05 )"
      ],
      "metadata": {
        "id": "E6VH_SEdlIkT"
      },
      "id": "E6VH_SEdlIkT"
    },
    {
      "cell_type": "markdown",
      "metadata": {
        "id": "gtRWNv-RRs7G"
      },
      "source": [
        "###Calculate the p-value"
      ],
      "id": "gtRWNv-RRs7G"
    },
    {
      "cell_type": "code",
      "source": [
        "# Import required test function\n",
        "from scipy.stats import chi2_contingency\n",
        "\n",
        "# Calculate test statistic and p-value\n",
        "chi, p_value, dof, expected = chi2_contingency(con_table)\n",
        "\n",
        "print(\"Test Statistic =\",chi)\n",
        "print(\"p-value =\",p_value)"
      ],
      "metadata": {
        "colab": {
          "base_uri": "https://localhost:8080/"
        },
        "id": "RLfZbLEtA-tx",
        "outputId": "98e3dbb1-b579-4958-d6a4-29c370ef70fa"
      },
      "id": "RLfZbLEtA-tx",
      "execution_count": null,
      "outputs": [
        {
          "output_type": "stream",
          "name": "stdout",
          "text": [
            "Test Statistic = 3.0930306905370832\n",
            "p-value = 0.2129888748754345\n"
          ]
        }
      ]
    },
    {
      "cell_type": "markdown",
      "source": [
        "### Conclusion of test"
      ],
      "metadata": {
        "id": "wm0lBXNdRs7G"
      },
      "id": "wm0lBXNdRs7G"
    },
    {
      "cell_type": "markdown",
      "source": [
        "Since the p-value (.212988874) > 𝛂 (.05) we fail to reject the null hypothesis.  There is not sufficient evidence to suggest conversion status is dependent of users preferred language.  "
      ],
      "metadata": {
        "id": "azsNuzZ7MBnB"
      },
      "id": "azsNuzZ7MBnB"
    },
    {
      "cell_type": "markdown",
      "metadata": {
        "id": "8d585a90"
      },
      "source": [
        "## 4. Is the time spent on the new page same for the different language users?"
      ],
      "id": "8d585a90"
    },
    {
      "cell_type": "markdown",
      "metadata": {
        "id": "hsr_SOOqRvoQ"
      },
      "source": [
        "### Perform Visual Analysis"
      ],
      "id": "hsr_SOOqRvoQ"
    },
    {
      "cell_type": "code",
      "source": [
        "# Create DataFrame for users who used the new landing page\n",
        "new_page = df[df['landing_page']=='new']"
      ],
      "metadata": {
        "id": "vPwjh1gjZC7-"
      },
      "id": "vPwjh1gjZC7-",
      "execution_count": null,
      "outputs": []
    },
    {
      "cell_type": "code",
      "source": [
        "# Creating Comparitive box-plots of preferred language and time spent on the NEW page\n",
        "sns.boxplot(data=new_page, x='time_spent_on_the_page', y='language_preferred');\n",
        "\n",
        "# mean time spent on the page by factor of preferred language\n",
        "print(new_page.groupby('language_preferred')['time_spent_on_the_page'].mean());"
      ],
      "metadata": {
        "colab": {
          "base_uri": "https://localhost:8080/",
          "height": 537
        },
        "id": "muoae7DnFYcI",
        "outputId": "a80ade05-9f84-49cd-f469-e692ff9bb7e5"
      },
      "id": "muoae7DnFYcI",
      "execution_count": null,
      "outputs": [
        {
          "output_type": "stream",
          "name": "stdout",
          "text": [
            "language_preferred\n",
            "English    6.663750\n",
            "French     6.196471\n",
            "Spanish    5.835294\n",
            "Name: time_spent_on_the_page, dtype: float64\n"
          ]
        },
        {
          "output_type": "display_data",
          "data": {
            "text/plain": [
              "<Figure size 640x480 with 1 Axes>"
            ],
            "image/png": "[encoded data removed]"
          },
          "metadata": {}
        }
      ]
    },
    {
      "cell_type": "markdown",
      "source": [
        "Distributions of time spent on the New page (in minutes) compared to the preferred language.  \n",
        "- Median time spent on the new page: English has the highest median then Spanish, and French has the smallest.\n",
        "- Spanish has one low outlier, while French has one high outlier, and then English has no outliers.\n",
        "- Excluding outliers - English and Spanish distributions are apporximately symmetrical, while the French is skewed right.\n",
        "- Excluding outliers - English has the largest range, then French, and Spanish has the smallest range."
      ],
      "metadata": {
        "id": "6f0XeEWAGIbU"
      },
      "id": "6f0XeEWAGIbU"
    },
    {
      "cell_type": "markdown",
      "metadata": {
        "id": "Z4gDDjdRRvof"
      },
      "source": [
        "###Define the null and alternate hypotheses"
      ],
      "id": "Z4gDDjdRRvof"
    },
    {
      "cell_type": "markdown",
      "source": [
        "Let  𝜇1,𝜇2,𝜇3  be the means of time spent on the new page for Spanish, English, and French respectively.\n",
        "\n",
        "Null hypothesis\n",
        "\n",
        "𝐻o:  𝜇1=𝜇2=𝜇3\n",
        "\n",
        "Alternative hypothesis\n",
        "\n",
        "𝐻𝑎:  At least one mean time spent on the new page is different from the rest in regaurds to preferred languages."
      ],
      "metadata": {
        "id": "a8GfQpUAGT-c"
      },
      "id": "a8GfQpUAGT-c"
    },
    {
      "cell_type": "markdown",
      "metadata": {
        "id": "8bFS2N84Rvof"
      },
      "source": [
        "### Check Conditions and Select Appropriate Test"
      ],
      "id": "8bFS2N84Rvof"
    },
    {
      "cell_type": "markdown",
      "source": [
        "####Use Shapiro-Wilk’s test to check for normality\n",
        "\n",
        "Null hypothesis\n",
        "\n",
        "𝐻o:  Time Spent on the new page follows a normal distribution\n",
        "\n",
        "Alternative hypothesis\n",
        "\n",
        "𝐻𝑎:  Time Spent on the new page does not follow a normal distribution"
      ],
      "metadata": {
        "id": "Id1EJNUNHar0"
      },
      "id": "Id1EJNUNHar0"
    },
    {
      "cell_type": "code",
      "source": [
        "# Calculating the p-value\n",
        "w, p_value = stats.shapiro(new_page['time_spent_on_the_page'])\n",
        "print('The p-value is', p_value)"
      ],
      "metadata": {
        "colab": {
          "base_uri": "https://localhost:8080/"
        },
        "id": "NaxdDWB8MV47",
        "outputId": "5f6026a0-8138-47da-efc6-c49536949ffc"
      },
      "id": "NaxdDWB8MV47",
      "execution_count": null,
      "outputs": [
        {
          "output_type": "stream",
          "name": "stdout",
          "text": [
            "The p-value is 0.8040016293525696\n"
          ]
        }
      ]
    },
    {
      "cell_type": "markdown",
      "source": [
        "Since p-value (.804) of the Shapiro-Wilk's test is larger than the significance level (𝛂 = .05), we fail to reject the null hypothesis that the response follows the normal distribution. There is not sufficient evidence that the time spent on the page does not follow a normal distribution."
      ],
      "metadata": {
        "id": "hjZUJwwbM267"
      },
      "id": "hjZUJwwbM267"
    },
    {
      "cell_type": "markdown",
      "source": [
        "####Use Levene’s test to check for equality of variances\n",
        "\n",
        "Null hypothesis\n",
        "\n",
        "𝐻o : All the population variances are equal\n",
        "\n",
        "Alternative hypothesis\n",
        "\n",
        "𝐻𝑎 : At least one variance is different from the rest"
      ],
      "metadata": {
        "id": "9cBI6zw-N_ho"
      },
      "id": "9cBI6zw-N_ho"
    },
    {
      "cell_type": "code",
      "source": [
        "# Homogeneity of Variance\n",
        "# Import the required function\n",
        "from scipy.stats import levene\n",
        "\n",
        "statistic, p_value = levene( new_page['time_spent_on_the_page'][new_page['language_preferred']==\"English\"],\n",
        "                                   new_page['time_spent_on_the_page'][new_page['language_preferred']==\"French\"],\n",
        "                                   new_page['time_spent_on_the_page'][new_page['language_preferred']==\"Spanish\"])\n",
        "# Calculate p-value\n",
        "print('The p-value is', p_value)"
      ],
      "metadata": {
        "colab": {
          "base_uri": "https://localhost:8080/"
        },
        "id": "DC_Tf5njOZIg",
        "outputId": "b4c78e83-d9a9-456f-df5e-4683c48ff606"
      },
      "id": "DC_Tf5njOZIg",
      "execution_count": null,
      "outputs": [
        {
          "output_type": "stream",
          "name": "stdout",
          "text": [
            "The p-value is 0.46711357711340173\n"
          ]
        }
      ]
    },
    {
      "cell_type": "markdown",
      "source": [
        "Since the p-value (.4671) is greater than the significance level of (𝛂 = .05), we fail to reject the null hypothesis. There is not sufficient evidence to suggest that at least one variance is different from the rest."
      ],
      "metadata": {
        "id": "ebRRdwXwP8eJ"
      },
      "id": "ebRRdwXwP8eJ"
    },
    {
      "cell_type": "markdown",
      "source": [
        "**Conditions are met: **\n",
        "- **Normality:** Populations are normally distributed and is verified by the Shapiro-Wilk's test\n",
        "- **Variances are Equal:** Homogeneity of variance is verified using the Levene's Test\n",
        "- **Independent Random Samples:** Samples are independent random samples from the population of interest\n",
        "\n",
        "Since all conditions are met we may proceed to use a **One-Way ANOVA Test**\n",
        "\n"
      ],
      "metadata": {
        "id": "exqabBD-RJ20"
      },
      "id": "exqabBD-RJ20"
    },
    {
      "cell_type": "markdown",
      "metadata": {
        "id": "5a6FEQ06Rvof"
      },
      "source": [
        "###Decide the significance level"
      ],
      "id": "5a6FEQ06Rvof"
    },
    {
      "cell_type": "markdown",
      "source": [
        "We will set our significance level at 5%. ( 𝛂 = 0.05 )"
      ],
      "metadata": {
        "id": "YISj-dSjUGXR"
      },
      "id": "YISj-dSjUGXR"
    },
    {
      "cell_type": "markdown",
      "metadata": {
        "id": "hSwHr8cNRvof"
      },
      "source": [
        "###Calculate the p-value"
      ],
      "id": "hSwHr8cNRvof"
    },
    {
      "cell_type": "code",
      "source": [
        "# Import the required function\n",
        "from scipy.stats import f_oneway\n",
        "\n",
        "# Perform one-way ANOVA test\n",
        "test_stat, p_value = f_oneway(new_page.loc[new_page['language_preferred'] == 'English', 'time_spent_on_the_page'],\n",
        "                              new_page.loc[new_page['language_preferred'] == 'French', 'time_spent_on_the_page'],\n",
        "                              new_page.loc[new_page['language_preferred'] == 'Spanish', 'time_spent_on_the_page'])\n",
        "print('The p-value is ' , p_value)"
      ],
      "metadata": {
        "colab": {
          "base_uri": "https://localhost:8080/"
        },
        "id": "keSFInb2UTmv",
        "outputId": "c858f9b9-afc2-4f2d-f2a4-10d2897d3acd"
      },
      "id": "keSFInb2UTmv",
      "execution_count": null,
      "outputs": [
        {
          "output_type": "stream",
          "name": "stdout",
          "text": [
            "The p-value is  0.43204138694325955\n"
          ]
        }
      ]
    },
    {
      "cell_type": "markdown",
      "source": [
        "### Conclusion of test"
      ],
      "metadata": {
        "id": "R7FVUwlyRvof"
      },
      "id": "R7FVUwlyRvof"
    },
    {
      "cell_type": "markdown",
      "source": [
        "Since the p-value (.432) is greater than our alpha (.05), we fail to reject the null hypothesis.  There is not sufficient evidence to suggest that at least one mean time spent on the new page is different from the rest in regaurds to preferred languages."
      ],
      "metadata": {
        "id": "eQ0WjXROWJPT"
      },
      "id": "eQ0WjXROWJPT"
    },
    {
      "cell_type": "markdown",
      "metadata": {
        "id": "3acbc947"
      },
      "source": [
        "## Conclusion and Business Recommendations"
      ],
      "id": "3acbc947"
    },
    {
      "cell_type": "markdown",
      "metadata": {
        "id": "21fb1063"
      },
      "source": [
        "####**Conclusions**\n",
        "\n",
        "**Time Spent on the Landing Page:**\n",
        "\n",
        "- On average the amount of time spent on on both pages was 5.3778 minutes. The minimum amount of time was .19 minutes, and the maximum time was 10.71minutes.\n",
        "- Language preference doesn't seem to have much affect on time spent on the page\n",
        "- Converted users spend more time than non-converted users. The first quartile for converted users is greater than the third quartile of non-converted users.\n",
        "- Average amount of time spent on the new page is greater than the old page.\n",
        "\n",
        "> *We found there is statistically significant more time spent on the new landing page compared to the old landing page.*\n",
        "\n",
        "**Conversion of Users**\n",
        "\n",
        "- At least 75% of converted users spent more time on the page than 75% of users who did not convert.\n",
        "- Mean amount of time spent on the page for converted users is more than two-and-half minutes greater than non-converted users.\n",
        "- Conversion rate for new page is greater than the old page by about 20%.\n",
        "\n",
        "> *We found there is a statistically significant higher conversion rate for the new page than the conversion rate for the old page.*\n",
        "\n",
        "> We did not find sufficient evidence to suggest conversion status is dependent of users preferred language.\n",
        "\n",
        "\n",
        "**Language Preference**\n",
        "\n",
        "- The median amount of time spent on the page is similar for all languages (approx. 5.5-6minutes). English is slightly the highest while French is the lowest.\n",
        "- It appears Language Preference has minimal impact on the users decisions and time spent on the new page.\n",
        "\n",
        "> We did not find sufficient evidence to suggest the mean time spent on the new page is different based on the users preferred languages.\n",
        "\n",
        "\n",
        "####**Recommendations:**\n",
        " - We would recommend switching to the new page, since users spend more time on the page and have a higher conversion rate compared to the old page.\n",
        " - Research and studies should be done based on gender as well to see the effect of time spent and conversion.\n",
        " - Research should be done on the type of news. Local news versus World news to see if this has an impact on time spent on the page and conversion rate.  \n"
      ],
      "id": "21fb1063"
    },
    {
      "cell_type": "markdown",
      "source": [
        "___"
      ],
      "metadata": {
        "id": "U0dAd4i0iCHo"
      },
      "id": "U0dAd4i0iCHo"
    }
  ]
}